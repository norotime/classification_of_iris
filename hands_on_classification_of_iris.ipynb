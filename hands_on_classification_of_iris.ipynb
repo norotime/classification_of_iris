{
  "nbformat": 4,
  "nbformat_minor": 0,
  "metadata": {
    "colab": {
      "name": "hands_on_classification_of_iris.ipynb",
      "version": "0.3.2",
      "provenance": [],
      "collapsed_sections": [
        "3UMbJMjvc5Fo"
      ],
      "include_colab_link": true
    },
    "kernelspec": {
      "display_name": "Python 3",
      "language": "python",
      "name": "python3"
    }
  },
  "cells": [
    {
      "cell_type": "markdown",
      "metadata": {
        "id": "view-in-github",
        "colab_type": "text"
      },
      "source": [
        "[View in Colaboratory](https://colab.research.google.com/github/norotime/classification_of_iris/blob/master/hands_on_classification_of_iris.ipynb)"
      ]
    },
    {
      "metadata": {
        "id": "Fh18eiC7xR67",
        "colab_type": "text"
      },
      "cell_type": "markdown",
      "source": [
        "# **ハンズオン「アヤメの分類」**\n",
        "\n",
        "## ゴール「機械学習でアヤメを分類する」\n",
        "\n",
        "機械学習プログラムを活用して\n",
        "\n",
        "*   がく片の長さ\n",
        "*   がく片の幅\n",
        "*   花びらの長さ\n",
        "*   花びらの幅\n",
        "\n",
        "から3種類のアヤメを分類します。\n",
        "\n",
        "実際の3種類の花はこちらです。\n",
        "https://en.wikipedia.org/wiki/Iris_flower_data_set"
      ]
    },
    {
      "metadata": {
        "id": "QDdl9qotxR68",
        "colab_type": "text"
      },
      "cell_type": "markdown",
      "source": [
        "## はじめに\n",
        "開発環境としてGoogle Colabを使います。これを使えば、Jupyter Notebookをクラウド上で使用できます。\n",
        "\n",
        "\n",
        "---\n",
        "\n",
        "\n",
        "### Google Colabの使い方\n",
        "セルと言う四角をクリックして選択し、そこにコードを書きます。**Shift + Enter**でセル内のコードを実行することもできます。  \n",
        "下の例を参考にして「Hello World!」を表示させてみましょう。"
      ]
    },
    {
      "metadata": {
        "id": "hfidEtJYxR69",
        "colab_type": "code",
        "colab": {
          "base_uri": "https://localhost:8080/",
          "height": 34
        },
        "outputId": "7e72ddbd-5947-42c9-d8d4-dcd4ca435ec6"
      },
      "cell_type": "code",
      "source": [
        "# 例\n",
        "print(\"Hi everybody!\")"
      ],
      "execution_count": 20,
      "outputs": [
        {
          "output_type": "stream",
          "text": [
            "Hi everybody!\n"
          ],
          "name": "stdout"
        }
      ]
    },
    {
      "metadata": {
        "id": "BEokLYQtxR7C",
        "colab_type": "code",
        "colab": {
          "base_uri": "https://localhost:8080/",
          "height": 37
        },
        "outputId": "5e548636-c990-4485-b4ba-b695adb791eb"
      },
      "cell_type": "code",
      "source": [
        "#『問題』上の例と同じようにコードを打ち込んで　Hello World!　と表示させてください。\n"
      ],
      "execution_count": 2,
      "outputs": []
    },
    {
      "metadata": {
        "id": "8M5F04OfKOkr",
        "colab_type": "text"
      },
      "cell_type": "markdown",
      "source": [
        "### 環境構築"
      ]
    },
    {
      "metadata": {
        "id": "dLgOSxFsxR7G",
        "colab_type": "code",
        "colab": {
          "base_uri": "https://localhost:8080/",
          "height": 102
        },
        "outputId": "cdc33721-2cb0-40f0-d860-64e7e888d6b8"
      },
      "cell_type": "code",
      "source": [
        "# 解説\n",
        "import matplotlib as mpl\n",
        "\n",
        "# 解説\n",
        "!apt-get -y install fonts-ipaexfont\n",
        "\n",
        "# フォントをSans serifにする\n",
        "font = {\"family\":\"IPAexGothic\"}\n",
        "\n",
        "# 解説\n",
        "mpl.rc('font', **font)\n",
        "\n",
        "# 解説\n",
        "mpl.font_manager._rebuild()\n",
        "\n",
        "# 解説\n",
        "%matplotlib inline"
      ],
      "execution_count": 21,
      "outputs": [
        {
          "output_type": "stream",
          "text": [
            "Reading package lists... Done\n",
            "Building dependency tree       \n",
            "Reading state information... Done\n",
            "fonts-ipaexfont is already the newest version (00301-3ubuntu1).\n",
            "0 upgraded, 0 newly installed, 0 to remove and 6 not upgraded.\n"
          ],
          "name": "stdout"
        }
      ]
    },
    {
      "metadata": {
        "id": "3ubL9wcNCDG8",
        "colab_type": "code",
        "colab": {
          "base_uri": "https://localhost:8080/",
          "height": 37
        },
        "outputId": "14359ac8-df2e-4a5b-e642-5133689d271d"
      },
      "cell_type": "code",
      "source": [
        "#計算&表の編集ツール\n",
        "import pandas as pd\n",
        "\n",
        "# 解説\n",
        "import numpy as np\n",
        "\n",
        "# 可視化ツール\n",
        "import matplotlib.pyplot as plt\n",
        "\n",
        "# 解説\n",
        "import matplotlib\n",
        "\n",
        "# 解説\n",
        "matplotlib.font_manager._rebuild()\n",
        "\n",
        "# 分類するためのツール\n",
        "import warnings\n",
        "\n",
        "# 解説\n",
        "warnings.filterwarnings('ignore')\n",
        "\n",
        "# 解説\n",
        "from sklearn.neural_network import MLPClassifier as Deeplearning\n",
        "\n",
        "#　その他\n",
        "import warnings\n",
        "\n",
        "# 解説\n",
        "warnings.filterwarnings('ignore')\n",
        "\n",
        "#データセット(このセルではツールの中にあるデータセットを読み込んでいます。)\n",
        "from sklearn.datasets import load_iris\n",
        "\n",
        "# 解説\n",
        "from sklearn.model_selection import train_test_split\n",
        "\n",
        "# 解説\n",
        "iris = load_iris()\n",
        "\n",
        "# 解説\n",
        "iris_data = pd.DataFrame(\n",
        "    # 解説\n",
        "    iris.data, columns=[\n",
        "          \"Sepal Length（がく片の長さ）\"\n",
        "        , \"Sepal Width（がく片の幅）\"\n",
        "        , \"Petal Length（花びらの長さ）\"\n",
        "        , \"Petal Width（花びらの幅）\"\n",
        "    ]\n",
        ")\n",
        "\n",
        "# 解説\n",
        "iris_target = pd.DataFrame(\n",
        "    # 解説\n",
        "    iris.target, columns = [\"種類\"]\n",
        ")\n",
        "\n",
        "# 解説\n",
        "iris = iris_data.join(iris_target)"
      ],
      "execution_count": 25,
      "outputs": []
    },
    {
      "metadata": {
        "id": "pFwzs7k-xR7G",
        "colab_type": "text"
      },
      "cell_type": "markdown",
      "source": [
        "## データの読み込み\n",
        "分析する前に、下記の3つの観点でデータを目視確認しましょう。  \n",
        "\n",
        "---\n",
        "\n",
        "1.   データ数\n",
        "2.   データ型\n",
        "3.   データの内容"
      ]
    },
    {
      "metadata": {
        "id": "AlYDtjHPxR7I",
        "colab_type": "code",
        "colab": {
          "base_uri": "https://localhost:8080/",
          "height": 1969
        },
        "outputId": "65cafcc0-2147-4bb6-c7b4-ee0dee7a16ca"
      },
      "cell_type": "code",
      "source": [
        "# @title デフォルトのタイトル テキスト\n",
        "#　.head(X)　を使うとデータの上からX番目までのデータを表示できます。\n",
        "iris.head(151) \n"
      ],
      "execution_count": 26,
      "outputs": [
        {
          "output_type": "execute_result",
          "data": {
            "text/html": [
              "<div>\n",
              "<style scoped>\n",
              "    .dataframe tbody tr th:only-of-type {\n",
              "        vertical-align: middle;\n",
              "    }\n",
              "\n",
              "    .dataframe tbody tr th {\n",
              "        vertical-align: top;\n",
              "    }\n",
              "\n",
              "    .dataframe thead th {\n",
              "        text-align: right;\n",
              "    }\n",
              "</style>\n",
              "<table border=\"1\" class=\"dataframe\">\n",
              "  <thead>\n",
              "    <tr style=\"text-align: right;\">\n",
              "      <th></th>\n",
              "      <th>Sepal Length（がく片の長さ）</th>\n",
              "      <th>Sepal Width（がく片の幅）</th>\n",
              "      <th>Petal Length（花びらの長さ）</th>\n",
              "      <th>Petal Width（花びらの幅）</th>\n",
              "      <th>種類</th>\n",
              "    </tr>\n",
              "  </thead>\n",
              "  <tbody>\n",
              "    <tr>\n",
              "      <th>0</th>\n",
              "      <td>5.1</td>\n",
              "      <td>3.5</td>\n",
              "      <td>1.4</td>\n",
              "      <td>0.2</td>\n",
              "      <td>0</td>\n",
              "    </tr>\n",
              "    <tr>\n",
              "      <th>1</th>\n",
              "      <td>4.9</td>\n",
              "      <td>3.0</td>\n",
              "      <td>1.4</td>\n",
              "      <td>0.2</td>\n",
              "      <td>0</td>\n",
              "    </tr>\n",
              "    <tr>\n",
              "      <th>2</th>\n",
              "      <td>4.7</td>\n",
              "      <td>3.2</td>\n",
              "      <td>1.3</td>\n",
              "      <td>0.2</td>\n",
              "      <td>0</td>\n",
              "    </tr>\n",
              "    <tr>\n",
              "      <th>3</th>\n",
              "      <td>4.6</td>\n",
              "      <td>3.1</td>\n",
              "      <td>1.5</td>\n",
              "      <td>0.2</td>\n",
              "      <td>0</td>\n",
              "    </tr>\n",
              "    <tr>\n",
              "      <th>4</th>\n",
              "      <td>5.0</td>\n",
              "      <td>3.6</td>\n",
              "      <td>1.4</td>\n",
              "      <td>0.2</td>\n",
              "      <td>0</td>\n",
              "    </tr>\n",
              "    <tr>\n",
              "      <th>5</th>\n",
              "      <td>5.4</td>\n",
              "      <td>3.9</td>\n",
              "      <td>1.7</td>\n",
              "      <td>0.4</td>\n",
              "      <td>0</td>\n",
              "    </tr>\n",
              "    <tr>\n",
              "      <th>6</th>\n",
              "      <td>4.6</td>\n",
              "      <td>3.4</td>\n",
              "      <td>1.4</td>\n",
              "      <td>0.3</td>\n",
              "      <td>0</td>\n",
              "    </tr>\n",
              "    <tr>\n",
              "      <th>7</th>\n",
              "      <td>5.0</td>\n",
              "      <td>3.4</td>\n",
              "      <td>1.5</td>\n",
              "      <td>0.2</td>\n",
              "      <td>0</td>\n",
              "    </tr>\n",
              "    <tr>\n",
              "      <th>8</th>\n",
              "      <td>4.4</td>\n",
              "      <td>2.9</td>\n",
              "      <td>1.4</td>\n",
              "      <td>0.2</td>\n",
              "      <td>0</td>\n",
              "    </tr>\n",
              "    <tr>\n",
              "      <th>9</th>\n",
              "      <td>4.9</td>\n",
              "      <td>3.1</td>\n",
              "      <td>1.5</td>\n",
              "      <td>0.1</td>\n",
              "      <td>0</td>\n",
              "    </tr>\n",
              "    <tr>\n",
              "      <th>10</th>\n",
              "      <td>5.4</td>\n",
              "      <td>3.7</td>\n",
              "      <td>1.5</td>\n",
              "      <td>0.2</td>\n",
              "      <td>0</td>\n",
              "    </tr>\n",
              "    <tr>\n",
              "      <th>11</th>\n",
              "      <td>4.8</td>\n",
              "      <td>3.4</td>\n",
              "      <td>1.6</td>\n",
              "      <td>0.2</td>\n",
              "      <td>0</td>\n",
              "    </tr>\n",
              "    <tr>\n",
              "      <th>12</th>\n",
              "      <td>4.8</td>\n",
              "      <td>3.0</td>\n",
              "      <td>1.4</td>\n",
              "      <td>0.1</td>\n",
              "      <td>0</td>\n",
              "    </tr>\n",
              "    <tr>\n",
              "      <th>13</th>\n",
              "      <td>4.3</td>\n",
              "      <td>3.0</td>\n",
              "      <td>1.1</td>\n",
              "      <td>0.1</td>\n",
              "      <td>0</td>\n",
              "    </tr>\n",
              "    <tr>\n",
              "      <th>14</th>\n",
              "      <td>5.8</td>\n",
              "      <td>4.0</td>\n",
              "      <td>1.2</td>\n",
              "      <td>0.2</td>\n",
              "      <td>0</td>\n",
              "    </tr>\n",
              "    <tr>\n",
              "      <th>15</th>\n",
              "      <td>5.7</td>\n",
              "      <td>4.4</td>\n",
              "      <td>1.5</td>\n",
              "      <td>0.4</td>\n",
              "      <td>0</td>\n",
              "    </tr>\n",
              "    <tr>\n",
              "      <th>16</th>\n",
              "      <td>5.4</td>\n",
              "      <td>3.9</td>\n",
              "      <td>1.3</td>\n",
              "      <td>0.4</td>\n",
              "      <td>0</td>\n",
              "    </tr>\n",
              "    <tr>\n",
              "      <th>17</th>\n",
              "      <td>5.1</td>\n",
              "      <td>3.5</td>\n",
              "      <td>1.4</td>\n",
              "      <td>0.3</td>\n",
              "      <td>0</td>\n",
              "    </tr>\n",
              "    <tr>\n",
              "      <th>18</th>\n",
              "      <td>5.7</td>\n",
              "      <td>3.8</td>\n",
              "      <td>1.7</td>\n",
              "      <td>0.3</td>\n",
              "      <td>0</td>\n",
              "    </tr>\n",
              "    <tr>\n",
              "      <th>19</th>\n",
              "      <td>5.1</td>\n",
              "      <td>3.8</td>\n",
              "      <td>1.5</td>\n",
              "      <td>0.3</td>\n",
              "      <td>0</td>\n",
              "    </tr>\n",
              "    <tr>\n",
              "      <th>20</th>\n",
              "      <td>5.4</td>\n",
              "      <td>3.4</td>\n",
              "      <td>1.7</td>\n",
              "      <td>0.2</td>\n",
              "      <td>0</td>\n",
              "    </tr>\n",
              "    <tr>\n",
              "      <th>21</th>\n",
              "      <td>5.1</td>\n",
              "      <td>3.7</td>\n",
              "      <td>1.5</td>\n",
              "      <td>0.4</td>\n",
              "      <td>0</td>\n",
              "    </tr>\n",
              "    <tr>\n",
              "      <th>22</th>\n",
              "      <td>4.6</td>\n",
              "      <td>3.6</td>\n",
              "      <td>1.0</td>\n",
              "      <td>0.2</td>\n",
              "      <td>0</td>\n",
              "    </tr>\n",
              "    <tr>\n",
              "      <th>23</th>\n",
              "      <td>5.1</td>\n",
              "      <td>3.3</td>\n",
              "      <td>1.7</td>\n",
              "      <td>0.5</td>\n",
              "      <td>0</td>\n",
              "    </tr>\n",
              "    <tr>\n",
              "      <th>24</th>\n",
              "      <td>4.8</td>\n",
              "      <td>3.4</td>\n",
              "      <td>1.9</td>\n",
              "      <td>0.2</td>\n",
              "      <td>0</td>\n",
              "    </tr>\n",
              "    <tr>\n",
              "      <th>25</th>\n",
              "      <td>5.0</td>\n",
              "      <td>3.0</td>\n",
              "      <td>1.6</td>\n",
              "      <td>0.2</td>\n",
              "      <td>0</td>\n",
              "    </tr>\n",
              "    <tr>\n",
              "      <th>26</th>\n",
              "      <td>5.0</td>\n",
              "      <td>3.4</td>\n",
              "      <td>1.6</td>\n",
              "      <td>0.4</td>\n",
              "      <td>0</td>\n",
              "    </tr>\n",
              "    <tr>\n",
              "      <th>27</th>\n",
              "      <td>5.2</td>\n",
              "      <td>3.5</td>\n",
              "      <td>1.5</td>\n",
              "      <td>0.2</td>\n",
              "      <td>0</td>\n",
              "    </tr>\n",
              "    <tr>\n",
              "      <th>28</th>\n",
              "      <td>5.2</td>\n",
              "      <td>3.4</td>\n",
              "      <td>1.4</td>\n",
              "      <td>0.2</td>\n",
              "      <td>0</td>\n",
              "    </tr>\n",
              "    <tr>\n",
              "      <th>29</th>\n",
              "      <td>4.7</td>\n",
              "      <td>3.2</td>\n",
              "      <td>1.6</td>\n",
              "      <td>0.2</td>\n",
              "      <td>0</td>\n",
              "    </tr>\n",
              "    <tr>\n",
              "      <th>...</th>\n",
              "      <td>...</td>\n",
              "      <td>...</td>\n",
              "      <td>...</td>\n",
              "      <td>...</td>\n",
              "      <td>...</td>\n",
              "    </tr>\n",
              "    <tr>\n",
              "      <th>120</th>\n",
              "      <td>6.9</td>\n",
              "      <td>3.2</td>\n",
              "      <td>5.7</td>\n",
              "      <td>2.3</td>\n",
              "      <td>2</td>\n",
              "    </tr>\n",
              "    <tr>\n",
              "      <th>121</th>\n",
              "      <td>5.6</td>\n",
              "      <td>2.8</td>\n",
              "      <td>4.9</td>\n",
              "      <td>2.0</td>\n",
              "      <td>2</td>\n",
              "    </tr>\n",
              "    <tr>\n",
              "      <th>122</th>\n",
              "      <td>7.7</td>\n",
              "      <td>2.8</td>\n",
              "      <td>6.7</td>\n",
              "      <td>2.0</td>\n",
              "      <td>2</td>\n",
              "    </tr>\n",
              "    <tr>\n",
              "      <th>123</th>\n",
              "      <td>6.3</td>\n",
              "      <td>2.7</td>\n",
              "      <td>4.9</td>\n",
              "      <td>1.8</td>\n",
              "      <td>2</td>\n",
              "    </tr>\n",
              "    <tr>\n",
              "      <th>124</th>\n",
              "      <td>6.7</td>\n",
              "      <td>3.3</td>\n",
              "      <td>5.7</td>\n",
              "      <td>2.1</td>\n",
              "      <td>2</td>\n",
              "    </tr>\n",
              "    <tr>\n",
              "      <th>125</th>\n",
              "      <td>7.2</td>\n",
              "      <td>3.2</td>\n",
              "      <td>6.0</td>\n",
              "      <td>1.8</td>\n",
              "      <td>2</td>\n",
              "    </tr>\n",
              "    <tr>\n",
              "      <th>126</th>\n",
              "      <td>6.2</td>\n",
              "      <td>2.8</td>\n",
              "      <td>4.8</td>\n",
              "      <td>1.8</td>\n",
              "      <td>2</td>\n",
              "    </tr>\n",
              "    <tr>\n",
              "      <th>127</th>\n",
              "      <td>6.1</td>\n",
              "      <td>3.0</td>\n",
              "      <td>4.9</td>\n",
              "      <td>1.8</td>\n",
              "      <td>2</td>\n",
              "    </tr>\n",
              "    <tr>\n",
              "      <th>128</th>\n",
              "      <td>6.4</td>\n",
              "      <td>2.8</td>\n",
              "      <td>5.6</td>\n",
              "      <td>2.1</td>\n",
              "      <td>2</td>\n",
              "    </tr>\n",
              "    <tr>\n",
              "      <th>129</th>\n",
              "      <td>7.2</td>\n",
              "      <td>3.0</td>\n",
              "      <td>5.8</td>\n",
              "      <td>1.6</td>\n",
              "      <td>2</td>\n",
              "    </tr>\n",
              "    <tr>\n",
              "      <th>130</th>\n",
              "      <td>7.4</td>\n",
              "      <td>2.8</td>\n",
              "      <td>6.1</td>\n",
              "      <td>1.9</td>\n",
              "      <td>2</td>\n",
              "    </tr>\n",
              "    <tr>\n",
              "      <th>131</th>\n",
              "      <td>7.9</td>\n",
              "      <td>3.8</td>\n",
              "      <td>6.4</td>\n",
              "      <td>2.0</td>\n",
              "      <td>2</td>\n",
              "    </tr>\n",
              "    <tr>\n",
              "      <th>132</th>\n",
              "      <td>6.4</td>\n",
              "      <td>2.8</td>\n",
              "      <td>5.6</td>\n",
              "      <td>2.2</td>\n",
              "      <td>2</td>\n",
              "    </tr>\n",
              "    <tr>\n",
              "      <th>133</th>\n",
              "      <td>6.3</td>\n",
              "      <td>2.8</td>\n",
              "      <td>5.1</td>\n",
              "      <td>1.5</td>\n",
              "      <td>2</td>\n",
              "    </tr>\n",
              "    <tr>\n",
              "      <th>134</th>\n",
              "      <td>6.1</td>\n",
              "      <td>2.6</td>\n",
              "      <td>5.6</td>\n",
              "      <td>1.4</td>\n",
              "      <td>2</td>\n",
              "    </tr>\n",
              "    <tr>\n",
              "      <th>135</th>\n",
              "      <td>7.7</td>\n",
              "      <td>3.0</td>\n",
              "      <td>6.1</td>\n",
              "      <td>2.3</td>\n",
              "      <td>2</td>\n",
              "    </tr>\n",
              "    <tr>\n",
              "      <th>136</th>\n",
              "      <td>6.3</td>\n",
              "      <td>3.4</td>\n",
              "      <td>5.6</td>\n",
              "      <td>2.4</td>\n",
              "      <td>2</td>\n",
              "    </tr>\n",
              "    <tr>\n",
              "      <th>137</th>\n",
              "      <td>6.4</td>\n",
              "      <td>3.1</td>\n",
              "      <td>5.5</td>\n",
              "      <td>1.8</td>\n",
              "      <td>2</td>\n",
              "    </tr>\n",
              "    <tr>\n",
              "      <th>138</th>\n",
              "      <td>6.0</td>\n",
              "      <td>3.0</td>\n",
              "      <td>4.8</td>\n",
              "      <td>1.8</td>\n",
              "      <td>2</td>\n",
              "    </tr>\n",
              "    <tr>\n",
              "      <th>139</th>\n",
              "      <td>6.9</td>\n",
              "      <td>3.1</td>\n",
              "      <td>5.4</td>\n",
              "      <td>2.1</td>\n",
              "      <td>2</td>\n",
              "    </tr>\n",
              "    <tr>\n",
              "      <th>140</th>\n",
              "      <td>6.7</td>\n",
              "      <td>3.1</td>\n",
              "      <td>5.6</td>\n",
              "      <td>2.4</td>\n",
              "      <td>2</td>\n",
              "    </tr>\n",
              "    <tr>\n",
              "      <th>141</th>\n",
              "      <td>6.9</td>\n",
              "      <td>3.1</td>\n",
              "      <td>5.1</td>\n",
              "      <td>2.3</td>\n",
              "      <td>2</td>\n",
              "    </tr>\n",
              "    <tr>\n",
              "      <th>142</th>\n",
              "      <td>5.8</td>\n",
              "      <td>2.7</td>\n",
              "      <td>5.1</td>\n",
              "      <td>1.9</td>\n",
              "      <td>2</td>\n",
              "    </tr>\n",
              "    <tr>\n",
              "      <th>143</th>\n",
              "      <td>6.8</td>\n",
              "      <td>3.2</td>\n",
              "      <td>5.9</td>\n",
              "      <td>2.3</td>\n",
              "      <td>2</td>\n",
              "    </tr>\n",
              "    <tr>\n",
              "      <th>144</th>\n",
              "      <td>6.7</td>\n",
              "      <td>3.3</td>\n",
              "      <td>5.7</td>\n",
              "      <td>2.5</td>\n",
              "      <td>2</td>\n",
              "    </tr>\n",
              "    <tr>\n",
              "      <th>145</th>\n",
              "      <td>6.7</td>\n",
              "      <td>3.0</td>\n",
              "      <td>5.2</td>\n",
              "      <td>2.3</td>\n",
              "      <td>2</td>\n",
              "    </tr>\n",
              "    <tr>\n",
              "      <th>146</th>\n",
              "      <td>6.3</td>\n",
              "      <td>2.5</td>\n",
              "      <td>5.0</td>\n",
              "      <td>1.9</td>\n",
              "      <td>2</td>\n",
              "    </tr>\n",
              "    <tr>\n",
              "      <th>147</th>\n",
              "      <td>6.5</td>\n",
              "      <td>3.0</td>\n",
              "      <td>5.2</td>\n",
              "      <td>2.0</td>\n",
              "      <td>2</td>\n",
              "    </tr>\n",
              "    <tr>\n",
              "      <th>148</th>\n",
              "      <td>6.2</td>\n",
              "      <td>3.4</td>\n",
              "      <td>5.4</td>\n",
              "      <td>2.3</td>\n",
              "      <td>2</td>\n",
              "    </tr>\n",
              "    <tr>\n",
              "      <th>149</th>\n",
              "      <td>5.9</td>\n",
              "      <td>3.0</td>\n",
              "      <td>5.1</td>\n",
              "      <td>1.8</td>\n",
              "      <td>2</td>\n",
              "    </tr>\n",
              "  </tbody>\n",
              "</table>\n",
              "<p>150 rows × 5 columns</p>\n",
              "</div>"
            ],
            "text/plain": [
              "     Sepal Length（がく片の長さ）  Sepal Width（がく片の幅）  Petal Length（花びらの長さ）  \\\n",
              "0                     5.1                 3.5                   1.4   \n",
              "1                     4.9                 3.0                   1.4   \n",
              "2                     4.7                 3.2                   1.3   \n",
              "3                     4.6                 3.1                   1.5   \n",
              "4                     5.0                 3.6                   1.4   \n",
              "5                     5.4                 3.9                   1.7   \n",
              "6                     4.6                 3.4                   1.4   \n",
              "7                     5.0                 3.4                   1.5   \n",
              "8                     4.4                 2.9                   1.4   \n",
              "9                     4.9                 3.1                   1.5   \n",
              "10                    5.4                 3.7                   1.5   \n",
              "11                    4.8                 3.4                   1.6   \n",
              "12                    4.8                 3.0                   1.4   \n",
              "13                    4.3                 3.0                   1.1   \n",
              "14                    5.8                 4.0                   1.2   \n",
              "15                    5.7                 4.4                   1.5   \n",
              "16                    5.4                 3.9                   1.3   \n",
              "17                    5.1                 3.5                   1.4   \n",
              "18                    5.7                 3.8                   1.7   \n",
              "19                    5.1                 3.8                   1.5   \n",
              "20                    5.4                 3.4                   1.7   \n",
              "21                    5.1                 3.7                   1.5   \n",
              "22                    4.6                 3.6                   1.0   \n",
              "23                    5.1                 3.3                   1.7   \n",
              "24                    4.8                 3.4                   1.9   \n",
              "25                    5.0                 3.0                   1.6   \n",
              "26                    5.0                 3.4                   1.6   \n",
              "27                    5.2                 3.5                   1.5   \n",
              "28                    5.2                 3.4                   1.4   \n",
              "29                    4.7                 3.2                   1.6   \n",
              "..                    ...                 ...                   ...   \n",
              "120                   6.9                 3.2                   5.7   \n",
              "121                   5.6                 2.8                   4.9   \n",
              "122                   7.7                 2.8                   6.7   \n",
              "123                   6.3                 2.7                   4.9   \n",
              "124                   6.7                 3.3                   5.7   \n",
              "125                   7.2                 3.2                   6.0   \n",
              "126                   6.2                 2.8                   4.8   \n",
              "127                   6.1                 3.0                   4.9   \n",
              "128                   6.4                 2.8                   5.6   \n",
              "129                   7.2                 3.0                   5.8   \n",
              "130                   7.4                 2.8                   6.1   \n",
              "131                   7.9                 3.8                   6.4   \n",
              "132                   6.4                 2.8                   5.6   \n",
              "133                   6.3                 2.8                   5.1   \n",
              "134                   6.1                 2.6                   5.6   \n",
              "135                   7.7                 3.0                   6.1   \n",
              "136                   6.3                 3.4                   5.6   \n",
              "137                   6.4                 3.1                   5.5   \n",
              "138                   6.0                 3.0                   4.8   \n",
              "139                   6.9                 3.1                   5.4   \n",
              "140                   6.7                 3.1                   5.6   \n",
              "141                   6.9                 3.1                   5.1   \n",
              "142                   5.8                 2.7                   5.1   \n",
              "143                   6.8                 3.2                   5.9   \n",
              "144                   6.7                 3.3                   5.7   \n",
              "145                   6.7                 3.0                   5.2   \n",
              "146                   6.3                 2.5                   5.0   \n",
              "147                   6.5                 3.0                   5.2   \n",
              "148                   6.2                 3.4                   5.4   \n",
              "149                   5.9                 3.0                   5.1   \n",
              "\n",
              "     Petal Width（花びらの幅）  種類  \n",
              "0                   0.2   0  \n",
              "1                   0.2   0  \n",
              "2                   0.2   0  \n",
              "3                   0.2   0  \n",
              "4                   0.2   0  \n",
              "5                   0.4   0  \n",
              "6                   0.3   0  \n",
              "7                   0.2   0  \n",
              "8                   0.2   0  \n",
              "9                   0.1   0  \n",
              "10                  0.2   0  \n",
              "11                  0.2   0  \n",
              "12                  0.1   0  \n",
              "13                  0.1   0  \n",
              "14                  0.2   0  \n",
              "15                  0.4   0  \n",
              "16                  0.4   0  \n",
              "17                  0.3   0  \n",
              "18                  0.3   0  \n",
              "19                  0.3   0  \n",
              "20                  0.2   0  \n",
              "21                  0.4   0  \n",
              "22                  0.2   0  \n",
              "23                  0.5   0  \n",
              "24                  0.2   0  \n",
              "25                  0.2   0  \n",
              "26                  0.4   0  \n",
              "27                  0.2   0  \n",
              "28                  0.2   0  \n",
              "29                  0.2   0  \n",
              "..                  ...  ..  \n",
              "120                 2.3   2  \n",
              "121                 2.0   2  \n",
              "122                 2.0   2  \n",
              "123                 1.8   2  \n",
              "124                 2.1   2  \n",
              "125                 1.8   2  \n",
              "126                 1.8   2  \n",
              "127                 1.8   2  \n",
              "128                 2.1   2  \n",
              "129                 1.6   2  \n",
              "130                 1.9   2  \n",
              "131                 2.0   2  \n",
              "132                 2.2   2  \n",
              "133                 1.5   2  \n",
              "134                 1.4   2  \n",
              "135                 2.3   2  \n",
              "136                 2.4   2  \n",
              "137                 1.8   2  \n",
              "138                 1.8   2  \n",
              "139                 2.1   2  \n",
              "140                 2.4   2  \n",
              "141                 2.3   2  \n",
              "142                 1.9   2  \n",
              "143                 2.3   2  \n",
              "144                 2.5   2  \n",
              "145                 2.3   2  \n",
              "146                 1.9   2  \n",
              "147                 2.0   2  \n",
              "148                 2.3   2  \n",
              "149                 1.8   2  \n",
              "\n",
              "[150 rows x 5 columns]"
            ]
          },
          "metadata": {
            "tags": []
          },
          "execution_count": 26
        }
      ]
    },
    {
      "metadata": {
        "id": "ofryFAFcxR7L",
        "colab_type": "code",
        "colab": {
          "base_uri": "https://localhost:8080/",
          "height": 297
        },
        "outputId": "826db375-4542-48f8-f872-bae68439f28a"
      },
      "cell_type": "code",
      "source": [
        "# 変数名.describe()を使うことでデータの数や平均値、中央値などがわかります。\n",
        "iris.describe()"
      ],
      "execution_count": 5,
      "outputs": [
        {
          "output_type": "execute_result",
          "data": {
            "text/html": [
              "<div>\n",
              "<style scoped>\n",
              "    .dataframe tbody tr th:only-of-type {\n",
              "        vertical-align: middle;\n",
              "    }\n",
              "\n",
              "    .dataframe tbody tr th {\n",
              "        vertical-align: top;\n",
              "    }\n",
              "\n",
              "    .dataframe thead th {\n",
              "        text-align: right;\n",
              "    }\n",
              "</style>\n",
              "<table border=\"1\" class=\"dataframe\">\n",
              "  <thead>\n",
              "    <tr style=\"text-align: right;\">\n",
              "      <th></th>\n",
              "      <th>Sepal Length（がく片の長さ）</th>\n",
              "      <th>Sepal Width（がく片の幅）</th>\n",
              "      <th>Petal Length（花びらの長さ）</th>\n",
              "      <th>Petal Width（花びらの幅）</th>\n",
              "      <th>種類</th>\n",
              "    </tr>\n",
              "  </thead>\n",
              "  <tbody>\n",
              "    <tr>\n",
              "      <th>count</th>\n",
              "      <td>150.000000</td>\n",
              "      <td>150.000000</td>\n",
              "      <td>150.000000</td>\n",
              "      <td>150.000000</td>\n",
              "      <td>150.000000</td>\n",
              "    </tr>\n",
              "    <tr>\n",
              "      <th>mean</th>\n",
              "      <td>5.843333</td>\n",
              "      <td>3.054000</td>\n",
              "      <td>3.758667</td>\n",
              "      <td>1.198667</td>\n",
              "      <td>1.000000</td>\n",
              "    </tr>\n",
              "    <tr>\n",
              "      <th>std</th>\n",
              "      <td>0.828066</td>\n",
              "      <td>0.433594</td>\n",
              "      <td>1.764420</td>\n",
              "      <td>0.763161</td>\n",
              "      <td>0.819232</td>\n",
              "    </tr>\n",
              "    <tr>\n",
              "      <th>min</th>\n",
              "      <td>4.300000</td>\n",
              "      <td>2.000000</td>\n",
              "      <td>1.000000</td>\n",
              "      <td>0.100000</td>\n",
              "      <td>0.000000</td>\n",
              "    </tr>\n",
              "    <tr>\n",
              "      <th>25%</th>\n",
              "      <td>5.100000</td>\n",
              "      <td>2.800000</td>\n",
              "      <td>1.600000</td>\n",
              "      <td>0.300000</td>\n",
              "      <td>0.000000</td>\n",
              "    </tr>\n",
              "    <tr>\n",
              "      <th>50%</th>\n",
              "      <td>5.800000</td>\n",
              "      <td>3.000000</td>\n",
              "      <td>4.350000</td>\n",
              "      <td>1.300000</td>\n",
              "      <td>1.000000</td>\n",
              "    </tr>\n",
              "    <tr>\n",
              "      <th>75%</th>\n",
              "      <td>6.400000</td>\n",
              "      <td>3.300000</td>\n",
              "      <td>5.100000</td>\n",
              "      <td>1.800000</td>\n",
              "      <td>2.000000</td>\n",
              "    </tr>\n",
              "    <tr>\n",
              "      <th>max</th>\n",
              "      <td>7.900000</td>\n",
              "      <td>4.400000</td>\n",
              "      <td>6.900000</td>\n",
              "      <td>2.500000</td>\n",
              "      <td>2.000000</td>\n",
              "    </tr>\n",
              "  </tbody>\n",
              "</table>\n",
              "</div>"
            ],
            "text/plain": [
              "       Sepal Length（がく片の長さ）  Sepal Width（がく片の幅）  Petal Length（花びらの長さ）  \\\n",
              "count            150.000000          150.000000            150.000000   \n",
              "mean               5.843333            3.054000              3.758667   \n",
              "std                0.828066            0.433594              1.764420   \n",
              "min                4.300000            2.000000              1.000000   \n",
              "25%                5.100000            2.800000              1.600000   \n",
              "50%                5.800000            3.000000              4.350000   \n",
              "75%                6.400000            3.300000              5.100000   \n",
              "max                7.900000            4.400000              6.900000   \n",
              "\n",
              "       Petal Width（花びらの幅）          種類  \n",
              "count          150.000000  150.000000  \n",
              "mean             1.198667    1.000000  \n",
              "std              0.763161    0.819232  \n",
              "min              0.100000    0.000000  \n",
              "25%              0.300000    0.000000  \n",
              "50%              1.300000    1.000000  \n",
              "75%              1.800000    2.000000  \n",
              "max              2.500000    2.000000  "
            ]
          },
          "metadata": {
            "tags": []
          },
          "execution_count": 5
        }
      ]
    },
    {
      "metadata": {
        "id": "TTxrfsj9xR7O",
        "colab_type": "text"
      },
      "cell_type": "markdown",
      "source": [
        "データを確認すると、花の特徴を表す数値がそれぞれ4種類（がく片の長さと幅、花びらの長さと幅）150本分のデータだとわかります。\n",
        "種類の列には0,1,2の3種類のデータが入っていて、それぞれの数字は以下の３種類のアヤメを表しています。  \n",
        "\n",
        "0 = iris-setosa  \n",
        "1 = iris-versicolor  \n",
        "2 = iris-verginica"
      ]
    },
    {
      "metadata": {
        "id": "9kCs26UMxR7P",
        "colab_type": "text"
      },
      "cell_type": "markdown",
      "source": [
        "ここで、データセットを二つに分け、片方を既に得られているデータ、もう片方を未知のデータに見立てます。  \n",
        "そして機械学習プログラムに、片方のデータを学習させて、未知のデータを予測していきます。学習させるデータは **`x_train`** **`y_train`** は訓練データの組（`x_train`は４つの特徴量、`y_train`は正解データ）です。  \n",
        "テストデータは**y_train**,**y_test**の組です。"
      ]
    },
    {
      "metadata": {
        "id": "3AXHrEjgxR7Q",
        "colab_type": "code",
        "colab": {
          "base_uri": "https://localhost:8080/",
          "height": 37
        },
        "outputId": "a04c8ea5-b458-409f-ddcd-37afd1e12a97"
      },
      "cell_type": "code",
      "source": [
        "#  列の名前が長いので、列名を変えています。\n",
        "\n",
        "iris_data.columns = [\n",
        "      \"がく片の長さ\"\n",
        "    , \"がく片の幅\"\n",
        "    , \"花びらの長さ\"\n",
        "    , \"花びらの幅\"\n",
        "]\n",
        "iris_target.columns = [\"種類\"]\n",
        "\n",
        "# スライドのx_train,x_test,y_train,y_testに分けています。\n",
        "# シャッフルして２つにデータを分割しています。\n",
        "x_train, x_test, y_train, y_test = train_test_split(\n",
        "      iris_data\n",
        "    , iris_target\n",
        "    , test_size = 0.5\n",
        ")"
      ],
      "execution_count": 7,
      "outputs": []
    },
    {
      "metadata": {
        "id": "dM7ZgrdIxR7T",
        "colab_type": "text"
      },
      "cell_type": "markdown",
      "source": [
        " ### チェックポイント1\n",
        " 下の例を参考にして、**x_train** , **x_test** , **y_train** , **x_test** , **y_test**\n",
        " にそれぞれどのようなデータが入っているか確認します。\n",
        "\n",
        "**変数.head(X)**  \n",
        "Xに数を入れることで「変数」に入っているデータの上からX番目までのデータを表示できます。"
      ]
    },
    {
      "metadata": {
        "id": "iJJ3O6CYxR7T",
        "colab_type": "code",
        "colab": {
          "base_uri": "https://localhost:8080/",
          "height": 142
        },
        "outputId": "72a14bfb-f7c0-4716-f2ab-4cfedaae662b"
      },
      "cell_type": "code",
      "source": [
        "# 例 x_train\n",
        "x_train.head(3)"
      ],
      "execution_count": 8,
      "outputs": [
        {
          "output_type": "execute_result",
          "data": {
            "text/html": [
              "<div>\n",
              "<style scoped>\n",
              "    .dataframe tbody tr th:only-of-type {\n",
              "        vertical-align: middle;\n",
              "    }\n",
              "\n",
              "    .dataframe tbody tr th {\n",
              "        vertical-align: top;\n",
              "    }\n",
              "\n",
              "    .dataframe thead th {\n",
              "        text-align: right;\n",
              "    }\n",
              "</style>\n",
              "<table border=\"1\" class=\"dataframe\">\n",
              "  <thead>\n",
              "    <tr style=\"text-align: right;\">\n",
              "      <th></th>\n",
              "      <th>がく片の長さ</th>\n",
              "      <th>がく片の幅</th>\n",
              "      <th>花びらの長さ</th>\n",
              "      <th>花びらの幅</th>\n",
              "    </tr>\n",
              "  </thead>\n",
              "  <tbody>\n",
              "    <tr>\n",
              "      <th>55</th>\n",
              "      <td>5.7</td>\n",
              "      <td>2.8</td>\n",
              "      <td>4.5</td>\n",
              "      <td>1.3</td>\n",
              "    </tr>\n",
              "    <tr>\n",
              "      <th>97</th>\n",
              "      <td>6.2</td>\n",
              "      <td>2.9</td>\n",
              "      <td>4.3</td>\n",
              "      <td>1.3</td>\n",
              "    </tr>\n",
              "    <tr>\n",
              "      <th>48</th>\n",
              "      <td>5.3</td>\n",
              "      <td>3.7</td>\n",
              "      <td>1.5</td>\n",
              "      <td>0.2</td>\n",
              "    </tr>\n",
              "  </tbody>\n",
              "</table>\n",
              "</div>"
            ],
            "text/plain": [
              "    がく片の長さ  がく片の幅  花びらの長さ  花びらの幅\n",
              "55     5.7    2.8     4.5    1.3\n",
              "97     6.2    2.9     4.3    1.3\n",
              "48     5.3    3.7     1.5    0.2"
            ]
          },
          "metadata": {
            "tags": []
          },
          "execution_count": 8
        }
      ]
    },
    {
      "metadata": {
        "id": "hkwIQ-SIxR7Y",
        "colab_type": "text"
      },
      "cell_type": "markdown",
      "source": [
        "### 練習問題1\n",
        "例と同じ様に**x_test** , **y_train** , **x_test** , **y_test**について上から5番目まで表示させてみてください。"
      ]
    },
    {
      "metadata": {
        "id": "UYKRyeh8xR7Y",
        "colab_type": "code",
        "colab": {
          "base_uri": "https://localhost:8080/",
          "height": 37
        },
        "outputId": "d1449a7b-1ef6-43a5-ec21-098f5fe04433"
      },
      "cell_type": "code",
      "source": [
        "#y_train"
      ],
      "execution_count": 9,
      "outputs": []
    },
    {
      "metadata": {
        "id": "xey8TRS-xR7b",
        "colab_type": "code",
        "colab": {
          "base_uri": "https://localhost:8080/",
          "height": 37
        },
        "outputId": "de406b29-61e4-4594-bac7-81fc1c71ed68"
      },
      "cell_type": "code",
      "source": [
        "#x_test"
      ],
      "execution_count": 10,
      "outputs": []
    },
    {
      "metadata": {
        "id": "J8qXPQsQxR7g",
        "colab_type": "code",
        "colab": {
          "base_uri": "https://localhost:8080/",
          "height": 37
        },
        "outputId": "a9c7bc91-2c6e-4251-8525-93fe59abcfc4"
      },
      "cell_type": "code",
      "source": [
        "#y_test"
      ],
      "execution_count": 11,
      "outputs": []
    },
    {
      "metadata": {
        "id": "9hSYRAwdxR7j",
        "colab_type": "text"
      },
      "cell_type": "markdown",
      "source": [
        "train_test_split関数によって\n",
        "**（訓練データ）＝ (**x_train** ,**y_train**)** 、 **（未知のデータ）＝ (**x_test** , **y_test**） に分けました。\n",
        "\n",
        "### データの可視化\n",
        "\n",
        "それぞれの列同士にどの様な相関があるかグラフにしてみましょう。  \n",
        "実際にAIに学習させるときはちゃんと良い学習をさせるためにある程度データを加工しなければいけません。  \n",
        "加工をするときにどの様なデータの関係性があるかを見るのがデータの可視化です。"
      ]
    },
    {
      "metadata": {
        "id": "Eu-pbYl6xR7k",
        "colab_type": "text"
      },
      "cell_type": "markdown",
      "source": [
        "#### Tips\n",
        "**変数名[\"列の名前\"]**  \n",
        "列が抽出できます。それぞれの行の番号も保持されます。出力は、上で出てきた表のような形ではなく、数字の列の形で出力されます。  \n",
        "\n",
        "例えば、x_trainの表から\n",
        "\n",
        "| がく片の長さ | がく片の幅 | 花びらの長さ | 花びらの幅 |\n",
        ":---:|:---:|:---:|:---:\n",
        "**15**| 6.0 | 2.9 | 4.5 | 1.5\n",
        "**121**| 7.2 | 3.0 | 1.3 | 0.2\n",
        "|：|：|：|：|\n",
        "\n",
        "下の様に一番左の「sepal length (cm)」の列のみを抽出したい時は\n",
        "\n",
        "| がく片の長さ (cm) |\n",
        ":---:|\n",
        "**15**| 6.0 | \n",
        "**121**| 7.2 | \n",
        "|:|\n",
        "\n",
        "この例の様に列名を選択して抽出することができます。"
      ]
    },
    {
      "metadata": {
        "id": "ewDMNte2xR7l",
        "colab_type": "code",
        "colab": {
          "base_uri": "https://localhost:8080/",
          "height": 1071
        },
        "outputId": "6549a0fd-9cc7-4455-b99b-0490b499ad2c"
      },
      "cell_type": "code",
      "source": [
        "#例 x_train\n",
        "x_train[\"がく片の長さ\"]"
      ],
      "execution_count": 12,
      "outputs": [
        {
          "output_type": "execute_result",
          "data": {
            "text/plain": [
              "55     5.7\n",
              "97     6.2\n",
              "48     5.3\n",
              "119    6.0\n",
              "29     4.7\n",
              "25     5.0\n",
              "100    6.3\n",
              "7      5.0\n",
              "64     5.6\n",
              "38     4.4\n",
              "45     4.8\n",
              "21     5.1\n",
              "83     6.0\n",
              "2      4.7\n",
              "144    6.7\n",
              "98     5.1\n",
              "81     5.5\n",
              "24     4.8\n",
              "73     6.1\n",
              "14     5.8\n",
              "140    6.7\n",
              "110    6.5\n",
              "92     5.8\n",
              "72     6.3\n",
              "131    7.9\n",
              "6      4.6\n",
              "61     5.9\n",
              "70     5.9\n",
              "37     4.9\n",
              "31     5.4\n",
              "      ... \n",
              "77     6.7\n",
              "137    6.4\n",
              "145    6.7\n",
              "134    6.1\n",
              "5      5.4\n",
              "17     5.1\n",
              "16     5.4\n",
              "11     4.8\n",
              "47     4.6\n",
              "53     5.5\n",
              "44     5.1\n",
              "51     6.4\n",
              "18     5.7\n",
              "35     5.0\n",
              "133    6.3\n",
              "116    6.5\n",
              "105    7.6\n",
              "8      4.4\n",
              "75     6.6\n",
              "118    7.7\n",
              "0      5.1\n",
              "56     6.3\n",
              "9      4.9\n",
              "113    5.7\n",
              "57     4.9\n",
              "123    6.3\n",
              "30     4.8\n",
              "93     5.0\n",
              "40     5.0\n",
              "102    7.1\n",
              "Name: がく片の長さ, Length: 75, dtype: float64"
            ]
          },
          "metadata": {
            "tags": []
          },
          "execution_count": 12
        }
      ]
    },
    {
      "metadata": {
        "id": "eljgk62txR7o",
        "colab_type": "text"
      },
      "cell_type": "markdown",
      "source": [
        "### チェックポイント2\n",
        " 下の例を参考にして、train_data（既に得られていると仮定しているデータ）の特徴量を用いて散布図をplotしてみましょう。  \n",
        "\n",
        "### Tips\n",
        "散布図は、 `plt.scatter()` で書くことができます。  \n",
        "**plt.scatter( 横軸に取りたいデータ, 縦軸に取りたいデータ, c = 色分けしたいデータ, cmap = 塗り分けたい色)  **  \n",
        "また、\n",
        "**plt.xlabel(\"列名１\")** 、 **plt.ylabel(\"列名２\")** でそれぞれの軸のラベルをつけることができます。    \n",
        "下の図は「がく片の長さ」の値を横軸、「がく片の幅」の値を縦軸にとって、それぞれの組をplotして、「種類」ごとに色分けしたものです。"
      ]
    },
    {
      "metadata": {
        "id": "YEBTiY6gxR7p",
        "colab_type": "code",
        "colab": {
          "base_uri": "https://localhost:8080/",
          "height": 279
        },
        "outputId": "2939aaaa-b805-406a-fad8-d7679d37de87"
      },
      "cell_type": "code",
      "source": [
        "#例 trainデータの \"がく片の長さ\" と \"がく片の幅\"\n",
        "\n",
        "# 解説\n",
        "plt.scatter(\n",
        "      x_train[\"がく片の長さ\"]\n",
        "    , x_train[\"がく片の幅\"]\n",
        "    , c = y_train[\"種類\"]\n",
        "    , cmap = \"viridis\"\n",
        ")\n",
        "\n",
        "# 解説\n",
        "plt.xlabel(\"がく片の長さ\")\n",
        "\n",
        "# 解説\n",
        "plt.ylabel(\"がく片の幅\")\n",
        "\n",
        "# 解説\n",
        "plt.show()"
      ],
      "execution_count": 13,
      "outputs": [
        {
          "output_type": "display_data",
          "data": {
            "image/png": "[encoded data removed]",
            "text/plain": [
              "<matplotlib.figure.Figure at 0x7fe7d8bfb438>"
            ]
          },
          "metadata": {
            "tags": []
          }
        }
      ]
    },
    {
      "metadata": {
        "id": "0dI_udh1xR7u",
        "colab_type": "text"
      },
      "cell_type": "markdown",
      "source": [
        "### 練習問題2\n",
        "x軸に「花びらの長さ」、y軸に「がく片の幅」をとったグラフ  \n",
        "x軸に「がく片の長さ」、y軸に「花びらの長さ」をとったグラフ   \n",
        "をplotしてみよう。"
      ]
    },
    {
      "metadata": {
        "id": "dFir-407xR7v",
        "colab_type": "code",
        "colab": {
          "base_uri": "https://localhost:8080/",
          "height": 1276
        },
        "outputId": "9f6ddbee-31b3-4e70-d7c6-17a8334396e8"
      },
      "cell_type": "code",
      "source": [
        "#\"花びらの長さ\"と \"がく片の幅\" \n",
        "plt.scatter(\n",
        "      x_train[\"ここに列名を入れて下さい\"]\n",
        "    , x_train[\"ここに列名を入れて下さい\"]\n",
        "    , c = y_train[\"ここに何で色分けするか入れて下さい\"]\n",
        "    , cmap = \"viridis\"\n",
        ")\n",
        "\n",
        "# 解説\n",
        "plt.xlabel(\"x軸の列名を入れて下さい\")\n",
        "\n",
        "# 解説\n",
        "plt.ylabel(\"y軸の列名を入れて下さい\")\n",
        "\n",
        "# 解説\n",
        "plt.show()"
      ],
      "execution_count": 14,
      "outputs": [
        {
          "output_type": "error",
          "ename": "KeyError",
          "evalue": "ignored",
          "traceback": [
            "\u001b[0;31m---------------------------------------------------------------------------\u001b[0m",
            "\u001b[0;31mKeyError\u001b[0m                                  Traceback (most recent call last)",
            "\u001b[0;32m/usr/local/lib/python3.6/dist-packages/pandas/core/indexes/base.py\u001b[0m in \u001b[0;36mget_loc\u001b[0;34m(self, key, method, tolerance)\u001b[0m\n\u001b[1;32m   2524\u001b[0m             \u001b[0;32mtry\u001b[0m\u001b[0;34m:\u001b[0m\u001b[0;34m\u001b[0m\u001b[0m\n\u001b[0;32m-> 2525\u001b[0;31m                 \u001b[0;32mreturn\u001b[0m \u001b[0mself\u001b[0m\u001b[0;34m.\u001b[0m\u001b[0m_engine\u001b[0m\u001b[0;34m.\u001b[0m\u001b[0mget_loc\u001b[0m\u001b[0;34m(\u001b[0m\u001b[0mkey\u001b[0m\u001b[0;34m)\u001b[0m\u001b[0;34m\u001b[0m\u001b[0m\n\u001b[0m\u001b[1;32m   2526\u001b[0m             \u001b[0;32mexcept\u001b[0m \u001b[0mKeyError\u001b[0m\u001b[0;34m:\u001b[0m\u001b[0;34m\u001b[0m\u001b[0m\n",
            "\u001b[0;32mpandas/_libs/index.pyx\u001b[0m in \u001b[0;36mpandas._libs.index.IndexEngine.get_loc\u001b[0;34m()\u001b[0m\n",
            "\u001b[0;32mpandas/_libs/index.pyx\u001b[0m in \u001b[0;36mpandas._libs.index.IndexEngine.get_loc\u001b[0;34m()\u001b[0m\n",
            "\u001b[0;32mpandas/_libs/hashtable_class_helper.pxi\u001b[0m in \u001b[0;36mpandas._libs.hashtable.PyObjectHashTable.get_item\u001b[0;34m()\u001b[0m\n",
            "\u001b[0;32mpandas/_libs/hashtable_class_helper.pxi\u001b[0m in \u001b[0;36mpandas._libs.hashtable.PyObjectHashTable.get_item\u001b[0;34m()\u001b[0m\n",
            "\u001b[0;31mKeyError\u001b[0m: 'ここに列名を入れて下さい'",
            "\nDuring handling of the above exception, another exception occurred:\n",
            "\u001b[0;31mKeyError\u001b[0m                                  Traceback (most recent call last)",
            "\u001b[0;32m<ipython-input-14-f539396ce4bd>\u001b[0m in \u001b[0;36m<module>\u001b[0;34m()\u001b[0m\n\u001b[0;32m----> 1\u001b[0;31m \u001b[0mplt\u001b[0m\u001b[0;34m.\u001b[0m\u001b[0mscatter\u001b[0m\u001b[0;34m(\u001b[0m\u001b[0mx_train\u001b[0m\u001b[0;34m[\u001b[0m\u001b[0;34m\"ここに列名を入れて下さい\"\u001b[0m\u001b[0;34m]\u001b[0m\u001b[0;34m,\u001b[0m\u001b[0mx_train\u001b[0m\u001b[0;34m[\u001b[0m\u001b[0;34m\"ここに列名を入れて下さい\"\u001b[0m\u001b[0;34m]\u001b[0m\u001b[0;34m,\u001b[0m \u001b[0mc\u001b[0m\u001b[0;34m=\u001b[0m\u001b[0my_train\u001b[0m\u001b[0;34m[\u001b[0m\u001b[0;34m\"ここに何で色分けするか入れて下さい\"\u001b[0m\u001b[0;34m]\u001b[0m\u001b[0;34m,\u001b[0m\u001b[0mcmap\u001b[0m \u001b[0;34m=\u001b[0m \u001b[0;34m\"viridis\"\u001b[0m\u001b[0;34m)\u001b[0m\u001b[0;34m\u001b[0m\u001b[0m\n\u001b[0m\u001b[1;32m      2\u001b[0m \u001b[0mplt\u001b[0m\u001b[0;34m.\u001b[0m\u001b[0mxlabel\u001b[0m\u001b[0;34m(\u001b[0m\u001b[0;34m\"x軸の列名を入れて下さい\"\u001b[0m\u001b[0;34m)\u001b[0m\u001b[0;34m\u001b[0m\u001b[0m\n\u001b[1;32m      3\u001b[0m \u001b[0mplt\u001b[0m\u001b[0;34m.\u001b[0m\u001b[0mylabel\u001b[0m\u001b[0;34m(\u001b[0m\u001b[0;34m\"y軸の列名を入れて下さい\"\u001b[0m\u001b[0;34m)\u001b[0m\u001b[0;34m\u001b[0m\u001b[0m\n\u001b[1;32m      4\u001b[0m \u001b[0mplt\u001b[0m\u001b[0;34m.\u001b[0m\u001b[0mshow\u001b[0m\u001b[0;34m(\u001b[0m\u001b[0;34m)\u001b[0m\u001b[0;34m\u001b[0m\u001b[0m\n",
            "\u001b[0;32m/usr/local/lib/python3.6/dist-packages/pandas/core/frame.py\u001b[0m in \u001b[0;36m__getitem__\u001b[0;34m(self, key)\u001b[0m\n\u001b[1;32m   2137\u001b[0m             \u001b[0;32mreturn\u001b[0m \u001b[0mself\u001b[0m\u001b[0;34m.\u001b[0m\u001b[0m_getitem_multilevel\u001b[0m\u001b[0;34m(\u001b[0m\u001b[0mkey\u001b[0m\u001b[0;34m)\u001b[0m\u001b[0;34m\u001b[0m\u001b[0m\n\u001b[1;32m   2138\u001b[0m         \u001b[0;32melse\u001b[0m\u001b[0;34m:\u001b[0m\u001b[0;34m\u001b[0m\u001b[0m\n\u001b[0;32m-> 2139\u001b[0;31m             \u001b[0;32mreturn\u001b[0m \u001b[0mself\u001b[0m\u001b[0;34m.\u001b[0m\u001b[0m_getitem_column\u001b[0m\u001b[0;34m(\u001b[0m\u001b[0mkey\u001b[0m\u001b[0;34m)\u001b[0m\u001b[0;34m\u001b[0m\u001b[0m\n\u001b[0m\u001b[1;32m   2140\u001b[0m \u001b[0;34m\u001b[0m\u001b[0m\n\u001b[1;32m   2141\u001b[0m     \u001b[0;32mdef\u001b[0m \u001b[0m_getitem_column\u001b[0m\u001b[0;34m(\u001b[0m\u001b[0mself\u001b[0m\u001b[0;34m,\u001b[0m \u001b[0mkey\u001b[0m\u001b[0;34m)\u001b[0m\u001b[0;34m:\u001b[0m\u001b[0;34m\u001b[0m\u001b[0m\n",
            "\u001b[0;32m/usr/local/lib/python3.6/dist-packages/pandas/core/frame.py\u001b[0m in \u001b[0;36m_getitem_column\u001b[0;34m(self, key)\u001b[0m\n\u001b[1;32m   2144\u001b[0m         \u001b[0;31m# get column\u001b[0m\u001b[0;34m\u001b[0m\u001b[0;34m\u001b[0m\u001b[0m\n\u001b[1;32m   2145\u001b[0m         \u001b[0;32mif\u001b[0m \u001b[0mself\u001b[0m\u001b[0;34m.\u001b[0m\u001b[0mcolumns\u001b[0m\u001b[0;34m.\u001b[0m\u001b[0mis_unique\u001b[0m\u001b[0;34m:\u001b[0m\u001b[0;34m\u001b[0m\u001b[0m\n\u001b[0;32m-> 2146\u001b[0;31m             \u001b[0;32mreturn\u001b[0m \u001b[0mself\u001b[0m\u001b[0;34m.\u001b[0m\u001b[0m_get_item_cache\u001b[0m\u001b[0;34m(\u001b[0m\u001b[0mkey\u001b[0m\u001b[0;34m)\u001b[0m\u001b[0;34m\u001b[0m\u001b[0m\n\u001b[0m\u001b[1;32m   2147\u001b[0m \u001b[0;34m\u001b[0m\u001b[0m\n\u001b[1;32m   2148\u001b[0m         \u001b[0;31m# duplicate columns & possible reduce dimensionality\u001b[0m\u001b[0;34m\u001b[0m\u001b[0;34m\u001b[0m\u001b[0m\n",
            "\u001b[0;32m/usr/local/lib/python3.6/dist-packages/pandas/core/generic.py\u001b[0m in \u001b[0;36m_get_item_cache\u001b[0;34m(self, item)\u001b[0m\n\u001b[1;32m   1840\u001b[0m         \u001b[0mres\u001b[0m \u001b[0;34m=\u001b[0m \u001b[0mcache\u001b[0m\u001b[0;34m.\u001b[0m\u001b[0mget\u001b[0m\u001b[0;34m(\u001b[0m\u001b[0mitem\u001b[0m\u001b[0;34m)\u001b[0m\u001b[0;34m\u001b[0m\u001b[0m\n\u001b[1;32m   1841\u001b[0m         \u001b[0;32mif\u001b[0m \u001b[0mres\u001b[0m \u001b[0;32mis\u001b[0m \u001b[0;32mNone\u001b[0m\u001b[0;34m:\u001b[0m\u001b[0;34m\u001b[0m\u001b[0m\n\u001b[0;32m-> 1842\u001b[0;31m             \u001b[0mvalues\u001b[0m \u001b[0;34m=\u001b[0m \u001b[0mself\u001b[0m\u001b[0;34m.\u001b[0m\u001b[0m_data\u001b[0m\u001b[0;34m.\u001b[0m\u001b[0mget\u001b[0m\u001b[0;34m(\u001b[0m\u001b[0mitem\u001b[0m\u001b[0;34m)\u001b[0m\u001b[0;34m\u001b[0m\u001b[0m\n\u001b[0m\u001b[1;32m   1843\u001b[0m             \u001b[0mres\u001b[0m \u001b[0;34m=\u001b[0m \u001b[0mself\u001b[0m\u001b[0;34m.\u001b[0m\u001b[0m_box_item_values\u001b[0m\u001b[0;34m(\u001b[0m\u001b[0mitem\u001b[0m\u001b[0;34m,\u001b[0m \u001b[0mvalues\u001b[0m\u001b[0;34m)\u001b[0m\u001b[0;34m\u001b[0m\u001b[0m\n\u001b[1;32m   1844\u001b[0m             \u001b[0mcache\u001b[0m\u001b[0;34m[\u001b[0m\u001b[0mitem\u001b[0m\u001b[0;34m]\u001b[0m \u001b[0;34m=\u001b[0m \u001b[0mres\u001b[0m\u001b[0;34m\u001b[0m\u001b[0m\n",
            "\u001b[0;32m/usr/local/lib/python3.6/dist-packages/pandas/core/internals.py\u001b[0m in \u001b[0;36mget\u001b[0;34m(self, item, fastpath)\u001b[0m\n\u001b[1;32m   3841\u001b[0m \u001b[0;34m\u001b[0m\u001b[0m\n\u001b[1;32m   3842\u001b[0m             \u001b[0;32mif\u001b[0m \u001b[0;32mnot\u001b[0m \u001b[0misna\u001b[0m\u001b[0;34m(\u001b[0m\u001b[0mitem\u001b[0m\u001b[0;34m)\u001b[0m\u001b[0;34m:\u001b[0m\u001b[0;34m\u001b[0m\u001b[0m\n\u001b[0;32m-> 3843\u001b[0;31m                 \u001b[0mloc\u001b[0m \u001b[0;34m=\u001b[0m \u001b[0mself\u001b[0m\u001b[0;34m.\u001b[0m\u001b[0mitems\u001b[0m\u001b[0;34m.\u001b[0m\u001b[0mget_loc\u001b[0m\u001b[0;34m(\u001b[0m\u001b[0mitem\u001b[0m\u001b[0;34m)\u001b[0m\u001b[0;34m\u001b[0m\u001b[0m\n\u001b[0m\u001b[1;32m   3844\u001b[0m             \u001b[0;32melse\u001b[0m\u001b[0;34m:\u001b[0m\u001b[0;34m\u001b[0m\u001b[0m\n\u001b[1;32m   3845\u001b[0m                 \u001b[0mindexer\u001b[0m \u001b[0;34m=\u001b[0m \u001b[0mnp\u001b[0m\u001b[0;34m.\u001b[0m\u001b[0marange\u001b[0m\u001b[0;34m(\u001b[0m\u001b[0mlen\u001b[0m\u001b[0;34m(\u001b[0m\u001b[0mself\u001b[0m\u001b[0;34m.\u001b[0m\u001b[0mitems\u001b[0m\u001b[0;34m)\u001b[0m\u001b[0;34m)\u001b[0m\u001b[0;34m[\u001b[0m\u001b[0misna\u001b[0m\u001b[0;34m(\u001b[0m\u001b[0mself\u001b[0m\u001b[0;34m.\u001b[0m\u001b[0mitems\u001b[0m\u001b[0;34m)\u001b[0m\u001b[0;34m]\u001b[0m\u001b[0;34m\u001b[0m\u001b[0m\n",
            "\u001b[0;32m/usr/local/lib/python3.6/dist-packages/pandas/core/indexes/base.py\u001b[0m in \u001b[0;36mget_loc\u001b[0;34m(self, key, method, tolerance)\u001b[0m\n\u001b[1;32m   2525\u001b[0m                 \u001b[0;32mreturn\u001b[0m \u001b[0mself\u001b[0m\u001b[0;34m.\u001b[0m\u001b[0m_engine\u001b[0m\u001b[0;34m.\u001b[0m\u001b[0mget_loc\u001b[0m\u001b[0;34m(\u001b[0m\u001b[0mkey\u001b[0m\u001b[0;34m)\u001b[0m\u001b[0;34m\u001b[0m\u001b[0m\n\u001b[1;32m   2526\u001b[0m             \u001b[0;32mexcept\u001b[0m \u001b[0mKeyError\u001b[0m\u001b[0;34m:\u001b[0m\u001b[0;34m\u001b[0m\u001b[0m\n\u001b[0;32m-> 2527\u001b[0;31m                 \u001b[0;32mreturn\u001b[0m \u001b[0mself\u001b[0m\u001b[0;34m.\u001b[0m\u001b[0m_engine\u001b[0m\u001b[0;34m.\u001b[0m\u001b[0mget_loc\u001b[0m\u001b[0;34m(\u001b[0m\u001b[0mself\u001b[0m\u001b[0;34m.\u001b[0m\u001b[0m_maybe_cast_indexer\u001b[0m\u001b[0;34m(\u001b[0m\u001b[0mkey\u001b[0m\u001b[0;34m)\u001b[0m\u001b[0;34m)\u001b[0m\u001b[0;34m\u001b[0m\u001b[0m\n\u001b[0m\u001b[1;32m   2528\u001b[0m \u001b[0;34m\u001b[0m\u001b[0m\n\u001b[1;32m   2529\u001b[0m         \u001b[0mindexer\u001b[0m \u001b[0;34m=\u001b[0m \u001b[0mself\u001b[0m\u001b[0;34m.\u001b[0m\u001b[0mget_indexer\u001b[0m\u001b[0;34m(\u001b[0m\u001b[0;34m[\u001b[0m\u001b[0mkey\u001b[0m\u001b[0;34m]\u001b[0m\u001b[0;34m,\u001b[0m \u001b[0mmethod\u001b[0m\u001b[0;34m=\u001b[0m\u001b[0mmethod\u001b[0m\u001b[0;34m,\u001b[0m \u001b[0mtolerance\u001b[0m\u001b[0;34m=\u001b[0m\u001b[0mtolerance\u001b[0m\u001b[0;34m)\u001b[0m\u001b[0;34m\u001b[0m\u001b[0m\n",
            "\u001b[0;32mpandas/_libs/index.pyx\u001b[0m in \u001b[0;36mpandas._libs.index.IndexEngine.get_loc\u001b[0;34m()\u001b[0m\n",
            "\u001b[0;32mpandas/_libs/index.pyx\u001b[0m in \u001b[0;36mpandas._libs.index.IndexEngine.get_loc\u001b[0;34m()\u001b[0m\n",
            "\u001b[0;32mpandas/_libs/hashtable_class_helper.pxi\u001b[0m in \u001b[0;36mpandas._libs.hashtable.PyObjectHashTable.get_item\u001b[0;34m()\u001b[0m\n",
            "\u001b[0;32mpandas/_libs/hashtable_class_helper.pxi\u001b[0m in \u001b[0;36mpandas._libs.hashtable.PyObjectHashTable.get_item\u001b[0;34m()\u001b[0m\n",
            "\u001b[0;31mKeyError\u001b[0m: 'ここに列名を入れて下さい'"
          ]
        }
      ]
    },
    {
      "metadata": {
        "id": "tQIm21RcxR7w",
        "colab_type": "code",
        "colab": {}
      },
      "cell_type": "code",
      "source": [
        "#「がく片の長さ」と「花びらの長さ」のグラフ  をplotして下さい。"
      ],
      "execution_count": 0,
      "outputs": []
    },
    {
      "metadata": {
        "id": "coHfozrKxR7z",
        "colab_type": "text"
      },
      "cell_type": "markdown",
      "source": [
        "## 機械学習させる\n",
        "学習させるとは、データを機械学習プログラムに読み込ませることで未知のデータセットに対して、予測ができるようにすることです。  \n",
        "上の図を例にすると、それぞれの点を分ける様な境界線を引くことが目的になってきます。\n",
        "実際に学習させていく時の流れとしては\n",
        "\n",
        "1.   機械学習プログラムを作成する\n",
        "2.   データを学習させる\n",
        "\n",
        "と言う流れです。"
      ]
    },
    {
      "metadata": {
        "id": "UP1Jz5zQxR7z",
        "colab_type": "text"
      },
      "cell_type": "markdown",
      "source": [
        "#### Tips\n",
        "**x_train.loc[:,[\"列名１\",\"列名２\"]]**  \n",
        "花の特徴を表す量(列のデータ)を2種類抜き出すことができます。  \n",
        "\n",
        "**ai.fit(訓練データの,訓練データの正解)**  \n",
        "AIに学習させることができます"
      ]
    },
    {
      "metadata": {
        "id": "nXiSBZQBxR70",
        "colab_type": "text"
      },
      "cell_type": "markdown",
      "source": [
        "### 練習問題3\n",
        "今回はplotするために列を２つだけ取ります。AIを設定→列を2種類選択→学習と言う流れになります。「がく片の長さ」の列と、「花びらの長さ」の列、正解ラベルをAIに学習させてみましょう。"
      ]
    },
    {
      "metadata": {
        "id": "SDBA_JyOxR70",
        "colab_type": "code",
        "colab": {
          "base_uri": "https://localhost:8080/",
          "height": 712
        },
        "outputId": "af0c6fd4-d25c-43b7-e5b3-b79b9f013e40"
      },
      "cell_type": "code",
      "source": [
        "# 解説\n",
        "import warnings\n",
        "\n",
        "# 解説\n",
        "warnings.filterwarnings('ignore')\n",
        "\n",
        "# 解説\n",
        "from sklearn.neural_network import MLPClassifier \n",
        "\n",
        "# どんなAIにするかを設定しています。\n",
        "ai = MLPClassifier()\n",
        "\n",
        "# 列の選択\n",
        "x_train = x_train.loc[\n",
        "      : , [\"ここに列名を入れて下さい\", \"ここに列名を入れて下さい\"]\n",
        "]\n",
        "\n",
        "#データの学習\n",
        "ai.fit(特徴を表すデータを入力して下さい, 種類が入ったデータを入力して下さい)"
      ],
      "execution_count": 15,
      "outputs": [
        {
          "output_type": "error",
          "ename": "KeyError",
          "evalue": "ignored",
          "traceback": [
            "\u001b[0;31m---------------------------------------------------------------------------\u001b[0m",
            "\u001b[0;31mKeyError\u001b[0m                                  Traceback (most recent call last)",
            "\u001b[0;32m<ipython-input-15-0e8590497388>\u001b[0m in \u001b[0;36m<module>\u001b[0;34m()\u001b[0m\n\u001b[1;32m      7\u001b[0m \u001b[0;34m\u001b[0m\u001b[0m\n\u001b[1;32m      8\u001b[0m \u001b[0;31m#列の選択\u001b[0m\u001b[0;34m\u001b[0m\u001b[0;34m\u001b[0m\u001b[0m\n\u001b[0;32m----> 9\u001b[0;31m \u001b[0mx_train\u001b[0m \u001b[0;34m=\u001b[0m \u001b[0mx_train\u001b[0m\u001b[0;34m.\u001b[0m\u001b[0mloc\u001b[0m\u001b[0;34m[\u001b[0m\u001b[0;34m:\u001b[0m\u001b[0;34m,\u001b[0m\u001b[0;34m[\u001b[0m\u001b[0;34m\"ここに列名を入れて下さい\"\u001b[0m\u001b[0;34m,\u001b[0m\u001b[0;34m\"ここに列名を入れて下さい\"\u001b[0m\u001b[0;34m]\u001b[0m\u001b[0;34m]\u001b[0m\u001b[0;34m\u001b[0m\u001b[0m\n\u001b[0m\u001b[1;32m     10\u001b[0m \u001b[0;34m\u001b[0m\u001b[0m\n\u001b[1;32m     11\u001b[0m \u001b[0;31m#データの学習\u001b[0m\u001b[0;34m\u001b[0m\u001b[0;34m\u001b[0m\u001b[0m\n",
            "\u001b[0;32m/usr/local/lib/python3.6/dist-packages/pandas/core/indexing.py\u001b[0m in \u001b[0;36m__getitem__\u001b[0;34m(self, key)\u001b[0m\n\u001b[1;32m   1365\u001b[0m             \u001b[0;32mexcept\u001b[0m \u001b[0;34m(\u001b[0m\u001b[0mKeyError\u001b[0m\u001b[0;34m,\u001b[0m \u001b[0mIndexError\u001b[0m\u001b[0;34m)\u001b[0m\u001b[0;34m:\u001b[0m\u001b[0;34m\u001b[0m\u001b[0m\n\u001b[1;32m   1366\u001b[0m                 \u001b[0;32mpass\u001b[0m\u001b[0;34m\u001b[0m\u001b[0m\n\u001b[0;32m-> 1367\u001b[0;31m             \u001b[0;32mreturn\u001b[0m \u001b[0mself\u001b[0m\u001b[0;34m.\u001b[0m\u001b[0m_getitem_tuple\u001b[0m\u001b[0;34m(\u001b[0m\u001b[0mkey\u001b[0m\u001b[0;34m)\u001b[0m\u001b[0;34m\u001b[0m\u001b[0m\n\u001b[0m\u001b[1;32m   1368\u001b[0m         \u001b[0;32melse\u001b[0m\u001b[0;34m:\u001b[0m\u001b[0;34m\u001b[0m\u001b[0m\n\u001b[1;32m   1369\u001b[0m             \u001b[0;31m# we by definition only have the 0th axis\u001b[0m\u001b[0;34m\u001b[0m\u001b[0;34m\u001b[0m\u001b[0m\n",
            "\u001b[0;32m/usr/local/lib/python3.6/dist-packages/pandas/core/indexing.py\u001b[0m in \u001b[0;36m_getitem_tuple\u001b[0;34m(self, tup)\u001b[0m\n\u001b[1;32m    861\u001b[0m \u001b[0;34m\u001b[0m\u001b[0m\n\u001b[1;32m    862\u001b[0m         \u001b[0;31m# no multi-index, so validate all of the indexers\u001b[0m\u001b[0;34m\u001b[0m\u001b[0;34m\u001b[0m\u001b[0m\n\u001b[0;32m--> 863\u001b[0;31m         \u001b[0mself\u001b[0m\u001b[0;34m.\u001b[0m\u001b[0m_has_valid_tuple\u001b[0m\u001b[0;34m(\u001b[0m\u001b[0mtup\u001b[0m\u001b[0;34m)\u001b[0m\u001b[0;34m\u001b[0m\u001b[0m\n\u001b[0m\u001b[1;32m    864\u001b[0m \u001b[0;34m\u001b[0m\u001b[0m\n\u001b[1;32m    865\u001b[0m         \u001b[0;31m# ugly hack for GH #836\u001b[0m\u001b[0;34m\u001b[0m\u001b[0;34m\u001b[0m\u001b[0m\n",
            "\u001b[0;32m/usr/local/lib/python3.6/dist-packages/pandas/core/indexing.py\u001b[0m in \u001b[0;36m_has_valid_tuple\u001b[0;34m(self, key)\u001b[0m\n\u001b[1;32m    202\u001b[0m             \u001b[0;32mif\u001b[0m \u001b[0mi\u001b[0m \u001b[0;34m>=\u001b[0m \u001b[0mself\u001b[0m\u001b[0;34m.\u001b[0m\u001b[0mobj\u001b[0m\u001b[0;34m.\u001b[0m\u001b[0mndim\u001b[0m\u001b[0;34m:\u001b[0m\u001b[0;34m\u001b[0m\u001b[0m\n\u001b[1;32m    203\u001b[0m                 \u001b[0;32mraise\u001b[0m \u001b[0mIndexingError\u001b[0m\u001b[0;34m(\u001b[0m\u001b[0;34m'Too many indexers'\u001b[0m\u001b[0;34m)\u001b[0m\u001b[0;34m\u001b[0m\u001b[0m\n\u001b[0;32m--> 204\u001b[0;31m             \u001b[0;32mif\u001b[0m \u001b[0;32mnot\u001b[0m \u001b[0mself\u001b[0m\u001b[0;34m.\u001b[0m\u001b[0m_has_valid_type\u001b[0m\u001b[0;34m(\u001b[0m\u001b[0mk\u001b[0m\u001b[0;34m,\u001b[0m \u001b[0mi\u001b[0m\u001b[0;34m)\u001b[0m\u001b[0;34m:\u001b[0m\u001b[0;34m\u001b[0m\u001b[0m\n\u001b[0m\u001b[1;32m    205\u001b[0m                 raise ValueError(\"Location based indexing can only have \"\n\u001b[1;32m    206\u001b[0m                                  \u001b[0;34m\"[{types}] types\"\u001b[0m\u001b[0;34m\u001b[0m\u001b[0m\n",
            "\u001b[0;32m/usr/local/lib/python3.6/dist-packages/pandas/core/indexing.py\u001b[0m in \u001b[0;36m_has_valid_type\u001b[0;34m(self, key, axis)\u001b[0m\n\u001b[1;32m   1470\u001b[0m                         raise KeyError(\n\u001b[1;32m   1471\u001b[0m                             u\"None of [{key}] are in the [{axis}]\".format(\n\u001b[0;32m-> 1472\u001b[0;31m                                 key=key, axis=self.obj._get_axis_name(axis)))\n\u001b[0m\u001b[1;32m   1473\u001b[0m                     \u001b[0;32melse\u001b[0m\u001b[0;34m:\u001b[0m\u001b[0;34m\u001b[0m\u001b[0m\n\u001b[1;32m   1474\u001b[0m \u001b[0;34m\u001b[0m\u001b[0m\n",
            "\u001b[0;31mKeyError\u001b[0m: \"None of [['ここに列名を入れて下さい', 'ここに列名を入れて下さい']] are in the [columns]\""
          ]
        }
      ]
    },
    {
      "metadata": {
        "id": "UyuhGxzUxR73",
        "colab_type": "text"
      },
      "cell_type": "markdown",
      "source": [
        "### 練習問題4\n",
        "今度はAIが自分でうまい境界線を引くことができたか、グラフにplotして確認します。  \n",
        "def文で定義されている下の関数内の引数を変えてplotしてみましょう。\n",
        "訓練データに対応する境界線が引けているのかどうかを確認するので、x_train,y_trainを使います。  \n",
        "row1とrow2には上と同様の列名を使ってください。\n"
      ]
    },
    {
      "metadata": {
        "id": "_CrOw2HlxR73",
        "colab_type": "code",
        "colab": {
          "base_uri": "https://localhost:8080/",
          "height": 256
        },
        "outputId": "d6cb9a45-1ce0-47c6-a4ae-213f3869dfe8"
      },
      "cell_type": "code",
      "source": [
        "# 解説\n",
        "from matplotlib.colors import ListedColormap\n",
        "\n",
        "# 解説\n",
        "from sklearn.neural_network import MLPClassifier as Deeplearning\n",
        "\n",
        "\n",
        "# ここでどの様に境界を引けたかをplotできる関数を定義しています。\n",
        "def plot_decision_regions(X, y, classifier = AI, resolution = 0.02, row1 = \"ここに列名を入れて下さい\", row2 = \"ここに列名を入れて下さい\"):\n",
        "\n",
        "    # 領域の色の付け方を設定しています。\n",
        "    colors = ('red', 'cyan', 'gray' )\n",
        "    cmap = ListedColormap(colors[:len(np.unique(y))])\n",
        "\n",
        "    # plotの仕方を設定しています。（ここはだいたい読み飛ばしてもらって結構です。）\n",
        "    x1_min, x1_max = X[row1].min() - 1, X[row1].max() + 1\n",
        "    \n",
        "    # 解説\n",
        "    x2_min, x2_max = X[row2].min() - 1, X[row2].max() + 1\n",
        "    \n",
        "    # 解説\n",
        "    xx1, xx2 = np.meshgrid(\n",
        "        　　np.arange(x1_min, x1_max, resolution)\n",
        "        ,　np.arange(x2_min, x2_max, resolution)\n",
        "    )\n",
        "    \n",
        "    # 解説\n",
        "    grid = np.array(\n",
        "        [xx1.ravel(), xx2.ravel()]\n",
        "    ).T\n",
        "    \n",
        "    # 解説\n",
        "    Z = classifier.predict(grid)\n",
        "    \n",
        "    # 解説\n",
        "    Z = Z.reshape(xx1.shape)\n",
        "    \n",
        "    # 解説\n",
        "    plt.contourf(xx1, xx2, Z, alpha = 0.4, cmap = cmap)\n",
        "    \n",
        "    # 解説\n",
        "    plt.xlim(xx1.min(), xx1.max())\n",
        "    \n",
        "    # 解説\n",
        "    plt.ylim(xx2.min(), xx2.max())\n",
        "    \n",
        "    # 解説\n",
        "    plt.xlabel(row1)\n",
        "    \n",
        "    # 解説\n",
        "    plt.ylabel(row2)\n",
        "    \n",
        "    # 解説\n",
        "    plt.scatter(\n",
        "          X[row1]\n",
        "        , X[row2]\n",
        "        , c = y[\"種類\"]\n",
        "        , cmap = \"viridis\"\n",
        "    )"
      ],
      "execution_count": 16,
      "outputs": [
        {
          "output_type": "error",
          "ename": "NameError",
          "evalue": "ignored",
          "traceback": [
            "\u001b[0;31m---------------------------------------------------------------------------\u001b[0m",
            "\u001b[0;31mNameError\u001b[0m                                 Traceback (most recent call last)",
            "\u001b[0;32m<ipython-input-16-68aee6ad07f3>\u001b[0m in \u001b[0;36m<module>\u001b[0;34m()\u001b[0m\n\u001b[1;32m      5\u001b[0m \u001b[0;31m# ここでどの様に境界を引けたかをplotできる関数を定義しています。\u001b[0m\u001b[0;34m\u001b[0m\u001b[0;34m\u001b[0m\u001b[0m\n\u001b[1;32m      6\u001b[0m \u001b[0;34m\u001b[0m\u001b[0m\n\u001b[0;32m----> 7\u001b[0;31m \u001b[0;32mdef\u001b[0m \u001b[0mplot_decision_regions\u001b[0m\u001b[0;34m(\u001b[0m\u001b[0mX\u001b[0m\u001b[0;34m,\u001b[0m \u001b[0my\u001b[0m\u001b[0;34m,\u001b[0m \u001b[0mclassifier\u001b[0m \u001b[0;34m=\u001b[0m \u001b[0mAI\u001b[0m\u001b[0;34m,\u001b[0m \u001b[0mresolution\u001b[0m\u001b[0;34m=\u001b[0m\u001b[0;36m0.02\u001b[0m\u001b[0;34m,\u001b[0m\u001b[0mrow1\u001b[0m \u001b[0;34m=\u001b[0m\u001b[0;34m\"ここに列名を入れて下さい\"\u001b[0m\u001b[0;34m,\u001b[0m\u001b[0mrow2\u001b[0m \u001b[0;34m=\u001b[0m \u001b[0;34m\"ここに列名を入れて下さい\"\u001b[0m\u001b[0;34m)\u001b[0m\u001b[0;34m:\u001b[0m\u001b[0;34m\u001b[0m\u001b[0m\n\u001b[0m\u001b[1;32m      8\u001b[0m \u001b[0;34m\u001b[0m\u001b[0m\n\u001b[1;32m      9\u001b[0m     \u001b[0;31m# 領域の色の付け方を設定しています。\u001b[0m\u001b[0;34m\u001b[0m\u001b[0;34m\u001b[0m\u001b[0m\n",
            "\u001b[0;31mNameError\u001b[0m: name 'AI' is not defined"
          ]
        }
      ]
    },
    {
      "metadata": {
        "id": "KneBOn9-xR75",
        "colab_type": "code",
        "colab": {}
      },
      "cell_type": "code",
      "source": [
        "#学習結果をplotしてみます。\n",
        "plot_decision_regions(x_train, y_train)\n",
        "\n",
        "# 解説\n",
        "plt.show()"
      ],
      "execution_count": 0,
      "outputs": []
    },
    {
      "metadata": {
        "id": "ddz1ObrBxR77",
        "colab_type": "text"
      },
      "cell_type": "markdown",
      "source": [
        "## 予測する\n",
        "\n",
        "AIに学習させたら今度は未知のデータを予測していきます。  \n",
        "「データの読み込み」で、アヤメの全データを、訓練データ（x_train,y_train）と未知のデータ（x_test,y_test）として二つに分割しました。  \n",
        "\n",
        "訓練データの学習はここまでで終わったので、今度は学習させたAIにx_trainを元にして個体の種類を予測してもらいましょう。   \n",
        "\n",
        "**＜tips＞**\n",
        "*設定したAI.predict(予測のもととなるデータ)*\n",
        "このメソッドでAIで予測することができます。\n",
        "\n",
        "*設定したAI.score(予測のもととなるデータ,実際の正解データ)*\n",
        "このメソッドで予測のスコアを出すことができます。\n",
        "\n",
        "### 練習問題5\n",
        "\n",
        "実際に予測して下さい。  \n",
        "\n",
        "1.   未知のデータの列を選択する\n",
        "2.   predictで予測する\n",
        "3.   スコアとplotを表示する"
      ]
    },
    {
      "metadata": {
        "id": "tJlQt_CUPscK",
        "colab_type": "text"
      },
      "cell_type": "markdown",
      "source": [
        "#### 未知のデータの列を選択する"
      ]
    },
    {
      "metadata": {
        "id": "elBM1l4KdiQI",
        "colab_type": "code",
        "colab": {
          "base_uri": "https://localhost:8080/",
          "height": 661
        },
        "outputId": "9679d7c8-e7cd-4b3a-e2d3-a1dd37022a03"
      },
      "cell_type": "code",
      "source": [
        "#訓練データの時と同じ列名を入力します。\n",
        "x_test = x_test.loc[:, [\"列名を入れて下さい\",\"列名を入れて下さい\"]]\n",
        "\n"
      ],
      "execution_count": 17,
      "outputs": [
        {
          "output_type": "error",
          "ename": "KeyError",
          "evalue": "ignored",
          "traceback": [
            "\u001b[0;31m---------------------------------------------------------------------------\u001b[0m",
            "\u001b[0;31mKeyError\u001b[0m                                  Traceback (most recent call last)",
            "\u001b[0;32m<ipython-input-17-6b6746f3d019>\u001b[0m in \u001b[0;36m<module>\u001b[0;34m()\u001b[0m\n\u001b[0;32m----> 1\u001b[0;31m \u001b[0mx_test\u001b[0m \u001b[0;34m=\u001b[0m \u001b[0mx_test\u001b[0m\u001b[0;34m.\u001b[0m\u001b[0mloc\u001b[0m\u001b[0;34m[\u001b[0m\u001b[0;34m:\u001b[0m\u001b[0;34m,\u001b[0m\u001b[0;34m[\u001b[0m\u001b[0;34m\"列名を入れて下さい\"\u001b[0m\u001b[0;34m,\u001b[0m\u001b[0;34m\"列名を入れて下さい\"\u001b[0m\u001b[0;34m]\u001b[0m\u001b[0;34m]\u001b[0m\u001b[0;34m\u001b[0m\u001b[0m\n\u001b[0m\u001b[1;32m      2\u001b[0m \u001b[0;34m\u001b[0m\u001b[0m\n",
            "\u001b[0;32m/usr/local/lib/python3.6/dist-packages/pandas/core/indexing.py\u001b[0m in \u001b[0;36m__getitem__\u001b[0;34m(self, key)\u001b[0m\n\u001b[1;32m   1365\u001b[0m             \u001b[0;32mexcept\u001b[0m \u001b[0;34m(\u001b[0m\u001b[0mKeyError\u001b[0m\u001b[0;34m,\u001b[0m \u001b[0mIndexError\u001b[0m\u001b[0;34m)\u001b[0m\u001b[0;34m:\u001b[0m\u001b[0;34m\u001b[0m\u001b[0m\n\u001b[1;32m   1366\u001b[0m                 \u001b[0;32mpass\u001b[0m\u001b[0;34m\u001b[0m\u001b[0m\n\u001b[0;32m-> 1367\u001b[0;31m             \u001b[0;32mreturn\u001b[0m \u001b[0mself\u001b[0m\u001b[0;34m.\u001b[0m\u001b[0m_getitem_tuple\u001b[0m\u001b[0;34m(\u001b[0m\u001b[0mkey\u001b[0m\u001b[0;34m)\u001b[0m\u001b[0;34m\u001b[0m\u001b[0m\n\u001b[0m\u001b[1;32m   1368\u001b[0m         \u001b[0;32melse\u001b[0m\u001b[0;34m:\u001b[0m\u001b[0;34m\u001b[0m\u001b[0m\n\u001b[1;32m   1369\u001b[0m             \u001b[0;31m# we by definition only have the 0th axis\u001b[0m\u001b[0;34m\u001b[0m\u001b[0;34m\u001b[0m\u001b[0m\n",
            "\u001b[0;32m/usr/local/lib/python3.6/dist-packages/pandas/core/indexing.py\u001b[0m in \u001b[0;36m_getitem_tuple\u001b[0;34m(self, tup)\u001b[0m\n\u001b[1;32m    861\u001b[0m \u001b[0;34m\u001b[0m\u001b[0m\n\u001b[1;32m    862\u001b[0m         \u001b[0;31m# no multi-index, so validate all of the indexers\u001b[0m\u001b[0;34m\u001b[0m\u001b[0;34m\u001b[0m\u001b[0m\n\u001b[0;32m--> 863\u001b[0;31m         \u001b[0mself\u001b[0m\u001b[0;34m.\u001b[0m\u001b[0m_has_valid_tuple\u001b[0m\u001b[0;34m(\u001b[0m\u001b[0mtup\u001b[0m\u001b[0;34m)\u001b[0m\u001b[0;34m\u001b[0m\u001b[0m\n\u001b[0m\u001b[1;32m    864\u001b[0m \u001b[0;34m\u001b[0m\u001b[0m\n\u001b[1;32m    865\u001b[0m         \u001b[0;31m# ugly hack for GH #836\u001b[0m\u001b[0;34m\u001b[0m\u001b[0;34m\u001b[0m\u001b[0m\n",
            "\u001b[0;32m/usr/local/lib/python3.6/dist-packages/pandas/core/indexing.py\u001b[0m in \u001b[0;36m_has_valid_tuple\u001b[0;34m(self, key)\u001b[0m\n\u001b[1;32m    202\u001b[0m             \u001b[0;32mif\u001b[0m \u001b[0mi\u001b[0m \u001b[0;34m>=\u001b[0m \u001b[0mself\u001b[0m\u001b[0;34m.\u001b[0m\u001b[0mobj\u001b[0m\u001b[0;34m.\u001b[0m\u001b[0mndim\u001b[0m\u001b[0;34m:\u001b[0m\u001b[0;34m\u001b[0m\u001b[0m\n\u001b[1;32m    203\u001b[0m                 \u001b[0;32mraise\u001b[0m \u001b[0mIndexingError\u001b[0m\u001b[0;34m(\u001b[0m\u001b[0;34m'Too many indexers'\u001b[0m\u001b[0;34m)\u001b[0m\u001b[0;34m\u001b[0m\u001b[0m\n\u001b[0;32m--> 204\u001b[0;31m             \u001b[0;32mif\u001b[0m \u001b[0;32mnot\u001b[0m \u001b[0mself\u001b[0m\u001b[0;34m.\u001b[0m\u001b[0m_has_valid_type\u001b[0m\u001b[0;34m(\u001b[0m\u001b[0mk\u001b[0m\u001b[0;34m,\u001b[0m \u001b[0mi\u001b[0m\u001b[0;34m)\u001b[0m\u001b[0;34m:\u001b[0m\u001b[0;34m\u001b[0m\u001b[0m\n\u001b[0m\u001b[1;32m    205\u001b[0m                 raise ValueError(\"Location based indexing can only have \"\n\u001b[1;32m    206\u001b[0m                                  \u001b[0;34m\"[{types}] types\"\u001b[0m\u001b[0;34m\u001b[0m\u001b[0m\n",
            "\u001b[0;32m/usr/local/lib/python3.6/dist-packages/pandas/core/indexing.py\u001b[0m in \u001b[0;36m_has_valid_type\u001b[0;34m(self, key, axis)\u001b[0m\n\u001b[1;32m   1470\u001b[0m                         raise KeyError(\n\u001b[1;32m   1471\u001b[0m                             u\"None of [{key}] are in the [{axis}]\".format(\n\u001b[0;32m-> 1472\u001b[0;31m                                 key=key, axis=self.obj._get_axis_name(axis)))\n\u001b[0m\u001b[1;32m   1473\u001b[0m                     \u001b[0;32melse\u001b[0m\u001b[0;34m:\u001b[0m\u001b[0;34m\u001b[0m\u001b[0m\n\u001b[1;32m   1474\u001b[0m \u001b[0;34m\u001b[0m\u001b[0m\n",
            "\u001b[0;31mKeyError\u001b[0m: \"None of [['列名を入れて下さい', '列名を入れて下さい']] are in the [columns]\""
          ]
        }
      ]
    },
    {
      "metadata": {
        "id": "zQGmq9cbtFF8",
        "colab_type": "text"
      },
      "cell_type": "markdown",
      "source": [
        "#### predictで予測する"
      ]
    },
    {
      "metadata": {
        "id": "rncbPaKysgiD",
        "colab_type": "code",
        "colab": {
          "base_uri": "https://localhost:8080/",
          "height": 202
        },
        "outputId": "5da74ad6-96d1-4d60-e5dd-2522c0a99b6d"
      },
      "cell_type": "code",
      "source": [
        "#②がく片の長さと花びらの長さを元にして、種類の判定をAIに行ってもらいます。\n",
        "#.predict()を使ってコーディングして下さい。\n",
        "\n",
        "y_pred = ここにコーディングして見ましょう\n",
        "\n",
        "# 解説\n",
        "print(\"予測値：{}\".format(y_pred))"
      ],
      "execution_count": 18,
      "outputs": [
        {
          "output_type": "error",
          "ename": "NameError",
          "evalue": "ignored",
          "traceback": [
            "\u001b[0;31m---------------------------------------------------------------------------\u001b[0m",
            "\u001b[0;31mNameError\u001b[0m                                 Traceback (most recent call last)",
            "\u001b[0;32m<ipython-input-18-3148c41790c1>\u001b[0m in \u001b[0;36m<module>\u001b[0;34m()\u001b[0m\n\u001b[1;32m      1\u001b[0m \u001b[0;34m\u001b[0m\u001b[0m\n\u001b[0;32m----> 2\u001b[0;31m \u001b[0my_pred\u001b[0m \u001b[0;34m=\u001b[0m \u001b[0mここにコーディングして見ましょう\u001b[0m\u001b[0;34m\u001b[0m\u001b[0m\n\u001b[0m\u001b[1;32m      3\u001b[0m \u001b[0mprint\u001b[0m\u001b[0;34m(\u001b[0m\u001b[0;34m\"予測値：{}\"\u001b[0m\u001b[0;34m.\u001b[0m\u001b[0mformat\u001b[0m\u001b[0;34m(\u001b[0m\u001b[0my_pred\u001b[0m\u001b[0;34m)\u001b[0m\u001b[0;34m)\u001b[0m\u001b[0;34m\u001b[0m\u001b[0m\n",
            "\u001b[0;31mNameError\u001b[0m: name 'ここにコーディングして見ましょう' is not defined"
          ]
        }
      ]
    },
    {
      "metadata": {
        "id": "lsKKmQzLgR04",
        "colab_type": "code",
        "colab": {}
      },
      "cell_type": "code",
      "source": [
        "#下に表示されたものが実際の種類です。\n",
        "#実際の正解と比べてどの程度違いがあるか簡単に見比べてみてください。\n",
        "ans = np.array(y_test)\n",
        "\n",
        "# 解説\n",
        "ans = ans.flatten()\n",
        "\n",
        "# 解説\n",
        "print(\"実際の正解：{}\".format(ans))"
      ],
      "execution_count": 0,
      "outputs": []
    },
    {
      "metadata": {
        "id": "3UMbJMjvc5Fo",
        "colab_type": "text"
      },
      "cell_type": "markdown",
      "source": [
        "#### スコアとplotを表示する"
      ]
    },
    {
      "metadata": {
        "id": "fKeJMIB5iBtg",
        "colab_type": "code",
        "colab": {}
      },
      "cell_type": "code",
      "source": [
        "# scoreメソッドを使って、スコアを表示させてみましょう。\n",
        "score = ai.score(データをここに入れて下さい,データをここに入れて下さい)\n",
        "print(\"スコア: {:.2f}\".format(score))"
      ],
      "execution_count": 0,
      "outputs": []
    },
    {
      "metadata": {
        "id": "Er_OZ2ar8bvC",
        "colab_type": "code",
        "colab": {}
      },
      "cell_type": "code",
      "source": [
        "#plotもしてどの様に分類されているか見てみましょう。\n",
        "plot_decision_regions(データをここに入れて下さい,データをここに入れて下さい)\n",
        "plt.show()"
      ],
      "execution_count": 0,
      "outputs": []
    },
    {
      "metadata": {
        "id": "e-wajjrOROR9",
        "colab_type": "text"
      },
      "cell_type": "markdown",
      "source": [
        "## おわりに\n",
        "\n",
        "お疲れ様でした。これでアヤメのデータ予測は一通り終了です。  \n",
        "いかがでしたか？  \n",
        "\n",
        "データ分析の簡単な流れは理解できたでしょうか？  今回の内容は大まかなデータ分析の流れをなぞっただけですが、意外と簡単にデータ予測ができると感じたのではないでしょうか？？  \n",
        "\n",
        "今日行ったクラス分類をさらに学習していけば、迷惑メールの分類、画像分類などもできるようになります。  \n",
        "\n",
        "そして画像分類ができれば、手書き文字の認識や人の判別、脳腫瘍の判別、料理の判別など本当に様々なことができるようになります。  \n",
        "\n",
        "今後AIは研究開発の分野だけでなく、金融、医療、法律などの分野から身近にあるスーパーやコンビニでも使用されていく技術です。  "
      ]
    },
    {
      "metadata": {
        "id": "FwUl2k0X8YT5",
        "colab_type": "text"
      },
      "cell_type": "markdown",
      "source": [
        "### アドバンス問題1\n",
        "今回はMLPClassifierを使いました。  \n",
        "これはニューラルネットワークを利用したものでデータ数が150個程度の問題の時は通常用いません。  \n",
        "したがって今度は違う分類器を使って推定してみましょう。  \n",
        "↓以下のサイトのフローチャートからこのアヤメの分類のデータセットにあった分類器を指定してみましょう。  \n",
        "http://scikit-learn.org/stable/tutorial/machine_learning_map/\n",
        "\n",
        "この分類器を使ってスコアとplot出力してみましょう。\n",
        "sklearnのドキュメントを見ながら、使う分類器をimportするところからやってみましょう。"
      ]
    },
    {
      "metadata": {
        "id": "XqdP0XzV8Y4W",
        "colab_type": "code",
        "colab": {}
      },
      "cell_type": "code",
      "source": [
        "#スコア"
      ],
      "execution_count": 0,
      "outputs": []
    },
    {
      "metadata": {
        "id": "aMmHS9xg8er6",
        "colab_type": "code",
        "colab": {}
      },
      "cell_type": "code",
      "source": [
        "#plot"
      ],
      "execution_count": 0,
      "outputs": []
    },
    {
      "metadata": {
        "id": "BpXX-0Ur8si7",
        "colab_type": "text"
      },
      "cell_type": "markdown",
      "source": [
        "### アドバンス問題2\n",
        "\n",
        "ここまででは特徴量を２つ選んで学習させましたが、今度は全ての列のデータを使ってみましょう。  \n",
        "スコアも出して、どのくらいスコアが変わったか見てみましょう。\n",
        "plotはしなくて結構です。  \n",
        "使用するAIはMLPclassifierを使用してください。"
      ]
    },
    {
      "metadata": {
        "id": "3cJdp1xj8tGP",
        "colab_type": "code",
        "colab": {}
      },
      "cell_type": "code",
      "source": [
        "#データセット(先ほど列を抽出してしまったのでデータセットを再読み込みしています。)\n",
        "from sklearn.datasets import load_iris\n",
        "\n",
        "# 解説\n",
        "from sklearn.model_selection import train_test_split\n",
        "\n",
        "# 解説\n",
        "iris = load_iris()\n",
        "\n",
        "# 解説\n",
        "iris_data = pd.DataFrame(iris.data, columns=[\"がく片の長さ\",\"がく片の幅\",\"花びらの長さ\",\"花びらの幅\"])\n",
        "\n",
        "# 解説\n",
        "iris_target = pd.DataFrame(iris.target, columns = [\"種類\"])  \n",
        "\n",
        "# スライドのx_train,x_test,y_train,y_testに分けています。\n",
        "# シャッフルして２つにデータを分割しています。\n",
        "x_train,x_test,y_train,y_test = train_test_split(iris_data,iris_target,test_size=0.5)"
      ],
      "execution_count": 0,
      "outputs": []
    },
    {
      "metadata": {
        "id": "-h5fQomI8x_S",
        "colab_type": "code",
        "colab": {}
      },
      "cell_type": "code",
      "source": [
        "# fitさせてpredictしてscoreを出しましょう。\n",
        "コーディングしてください\n",
        "\n",
        "# 解説\n",
        "y_pred = コーディングしてください\n",
        "\n",
        "# 解説\n",
        "score = コーディングしてください\n",
        "\n",
        "# 解説\n",
        "print(\"予測値：{}\".format(y_pred))\n",
        "\n",
        "# 解説\n",
        "print(\"スコア: {:.2f}\".format(score))"
      ],
      "execution_count": 0,
      "outputs": []
    },
    {
      "metadata": {
        "id": "bv4U6-3P9wZy",
        "colab_type": "text"
      },
      "cell_type": "markdown",
      "source": [
        "### アドバンス問題３\n",
        "ここまでで設定するAIの引数には実はdefaultの値が入っていました。  \n",
        "例えばSVCであればC=1,kernel='rbf'など（詳しくはscikitlearnのdocumentをご覧ください。）\n",
        "しかし、本当はそのデータにあった最適な分類器(AI)にするためにパラメータを変えなくてはなりません。  \n",
        "そのためにグリッドサーチという手法があります。\n",
        "これはパラメータをの組む合わせを全て試して一番スコアの良いものを返す。\n",
        "という方法があります。\n",
        "この方法で一番良いパラメータを発見し良いスコアを出すことがこの問題の目標です。\n",
        "\n",
        "ちなみに`グリッドサーチ`と呼ばれるのは下の様にパラメータを縦と横に並べたときに、その格子点の組み合わせのパラメータをしらみつぶしに試していくからです。\n",
        "\n",
        "||0.01|0.１|1|10|100\n",
        "|---|---|---|---|----|----|\n",
        "|linear|linear, 0.01|linear, 0.1 |linear, 1|linear, 10|linear,100\n",
        "|rbf|rbf , 0.01|rbf, 0.1|rbf, 1|rbf, 10|rbf, 100|\n",
        "|sigmoid|sigmoid , 0.01|sigmoid, 0.1|sigmoid, 1|sigmoid, 10|sigmoid, 100|\n",
        "\n",
        "``` ＜指定＞分類器はSVC、調べるのは以下の２つの組み合わせ。```  \n",
        "`kernel:'linear''rbf','sigmoid'`  \n",
        " `C:[0.01,0.1,1, 10,100]`\n",
        "\n",
        "**参考サイト**  \n",
        "http://scikit-learn.org/stable/modules/generated/sklearn.grid_search.GridSearchCV.html#sklearn.grid_search.GridSearchCV\n"
      ]
    },
    {
      "metadata": {
        "id": "jpo4q-939z7U",
        "colab_type": "code",
        "colab": {}
      },
      "cell_type": "code",
      "source": [
        "# 解説\n",
        "from sklearn.grid_search import GridSearchCV\n",
        "\n",
        "# 解説\n",
        "parameters = {'kernel':('linear', 'rbf'), 'C':[0.01,0.1,1, 10,100]}\n",
        "#### 以下に記述してください。\n",
        "\n",
        "\n",
        "\n",
        "####\n",
        "#ここでは詳しく述べませんが、内部で分割されているので、大元のiris.dataと、iris.targetをfitさせています。\n",
        "\n",
        "# 解説\n",
        "clf.fit(iris.data, iris.target)"
      ],
      "execution_count": 0,
      "outputs": []
    },
    {
      "metadata": {
        "id": "IcMKwMw49340",
        "colab_type": "code",
        "colab": {}
      },
      "cell_type": "code",
      "source": [
        "# .best_params_で最もスコアの良いパラメータを見ることができます。\n",
        "clf.best_params_"
      ],
      "execution_count": 0,
      "outputs": []
    },
    {
      "metadata": {
        "id": "5BwCaWbK98KZ",
        "colab_type": "code",
        "colab": {}
      },
      "cell_type": "code",
      "source": [
        "# GridSearchCVの内部で学習が行われているので.scoreでスコアが出せます。\n",
        "clf.score(x_test,y_test)"
      ],
      "execution_count": 0,
      "outputs": []
    }
  ]
}